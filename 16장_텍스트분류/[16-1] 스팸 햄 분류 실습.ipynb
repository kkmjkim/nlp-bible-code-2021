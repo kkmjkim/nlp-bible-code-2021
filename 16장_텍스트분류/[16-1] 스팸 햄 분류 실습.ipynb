{
  "nbformat": 4,
  "nbformat_minor": 0,
  "metadata": {
    "colab": {
      "name": "[16-1]스팸 햄 분류 실습.ipynb",
      "provenance": [],
      "collapsed_sections": []
    },
    "kernelspec": {
      "name": "python3",
      "display_name": "Python 3"
    }
  },
  "cells": [
    {
      "cell_type": "code",
      "metadata": {
        "colab": {
          "base_uri": "https://localhost:8080/"
        },
        "id": "Ci4XVytKtbF8",
        "outputId": "4870a53f-a758-4f6f-9872-6d133d8fdf4f"
      },
      "source": [
        "# SMSSpamCollection 경로 지정 위해 드라이브 마운트\n",
        "from google.colab import drive\n",
        "drive.mount('/content/drive', force_remount=True)\n",
        "\n",
        "%cd /content/drive/MyDrive"
      ],
      "execution_count": 2,
      "outputs": [
        {
          "output_type": "stream",
          "text": [
            "Mounted at /content/drive\n",
            "/content/drive/MyDrive\n"
          ],
          "name": "stdout"
        }
      ]
    },
    {
      "cell_type": "markdown",
      "metadata": {
        "id": "D1wTs92v0KVi"
      },
      "source": [
        "**텍스트 분류 프로세스:**\n",
        "1. 데이터 준비\n",
        "2. 데이터 전처리 (불용어 제거, 특수기호 제거, Normalization; 주로 NLTK 사용)\n",
        "3. 특징값 추출 (BoW, TF-IDF vectorizer)\n",
        "4. 학습 (여러가지 모델 사용)\n",
        "5. 평가 (Precision, Recall, F-1 Score)"
      ]
    },
    {
      "cell_type": "code",
      "metadata": {
        "id": "IVgdYARsZW6M",
        "colab": {
          "base_uri": "https://localhost:8080/"
        },
        "outputId": "4902bb2d-6a09-41e2-e9ee-a8023abc485d"
      },
      "source": [
        "!pip install np   #환경설정\n",
        "\n",
        "import nltk   # a suite of libraries and programs for NLP\n",
        "from nltk.corpus import stopwords\n",
        "from nltk.stem import WordNetLemmatizer\n",
        "import csv\n",
        "import np   # np = numpy + handy tools\n",
        "\n",
        "#환경설정\n",
        "nltk.download('punkt')\n",
        "nltk.download('stopwords')\n",
        "nltk.download('wordnet')\n",
        "\n",
        "\"\"\"\n",
        "실행시 주의사항: SMSSpamCollection의 경로를 지정해주세요.\n",
        "\"\"\"\n",
        "\n",
        "smsdata = open('SMSSpamCollection', encoding='utf8') # \"drive/MyDrive/SMSSpamCollection\""
      ],
      "execution_count": 3,
      "outputs": [
        {
          "output_type": "stream",
          "text": [
            "Collecting np\n",
            "  Downloading https://files.pythonhosted.org/packages/40/7d/749666e5a9976dcbc4d16d487bbe571efc6bbf4cdf3f4620c0ccc52b57ef/np-1.0.2.tar.gz\n",
            "Building wheels for collected packages: np\n",
            "  Building wheel for np (setup.py) ... \u001b[?25l\u001b[?25hdone\n",
            "  Created wheel for np: filename=np-1.0.2-cp37-none-any.whl size=13652 sha256=f06dbeb08e9d2419095cec9264843d67ab70b4c59aabccc65c70f40a633eb108\n",
            "  Stored in directory: /root/.cache/pip/wheels/2b/df/57/f40bef951382112d9c644b3ec6d713ceb200ea7c15c074de42\n",
            "Successfully built np\n",
            "Installing collected packages: np\n",
            "Successfully installed np-1.0.2\n",
            "[nltk_data] Downloading package punkt to /root/nltk_data...\n",
            "[nltk_data]   Unzipping tokenizers/punkt.zip.\n",
            "[nltk_data] Downloading package stopwords to /root/nltk_data...\n",
            "[nltk_data]   Unzipping corpora/stopwords.zip.\n",
            "[nltk_data] Downloading package wordnet to /root/nltk_data...\n",
            "[nltk_data]   Unzipping corpora/wordnet.zip.\n"
          ],
          "name": "stdout"
        }
      ]
    },
    {
      "cell_type": "code",
      "metadata": {
        "id": "LmIL81k3vEDj"
      },
      "source": [
        "def preprocessing(text):   #Preprocessing\n",
        "    # tokenize into words (text -> sentences -> words)\n",
        "    tokens = [word for sent in nltk.sent_tokenize(text) for word in nltk.word_tokenize(sent)]\n",
        "   \n",
        "    # remove stopwords\n",
        "    stop = stopwords.words('english')\n",
        "    tokens = [token for token in tokens if token not in stop]\n",
        "\n",
        "    # remove words less than three letters\n",
        "    tokens = [word for word in tokens if len(word) >= 3]\n",
        "    \n",
        "    # lower capitalization\n",
        "    tokens = [word.lower() for word in tokens]\n",
        "    \n",
        "    # lemmatize (return the base or dictionary form of a word; not just cropping)\n",
        "    lmtzr = WordNetLemmatizer()\n",
        "    tokens = [lmtzr.lemmatize(word) for word in tokens]\n",
        "\n",
        "    preprocessed_text= ' '.join(tokens)\n",
        "    return preprocessed_text"
      ],
      "execution_count": 4,
      "outputs": []
    },
    {
      "cell_type": "code",
      "metadata": {
        "id": "wN7k7lPFvD32"
      },
      "source": [
        "sms_data = []\n",
        "sms_labels = []\n",
        "cnt = 0   # ??\n",
        "sencsv_reader = csv.reader(smsdata,delimiter='\\t')\n",
        "for line in sencsv_reader:\n",
        "    # adding the sms_id\n",
        "    sms_labels.append(line[0])\n",
        "    sms_data.append(preprocessing(line[1]))\n",
        "\n",
        "smsdata.close()\n",
        "\n",
        "# 전처리 끝"
      ],
      "execution_count": 5,
      "outputs": []
    },
    {
      "cell_type": "code",
      "metadata": {
        "colab": {
          "base_uri": "https://localhost:8080/"
        },
        "id": "sYtSciRivT6I",
        "outputId": "40923ae1-77c1-4a77-b316-088796c4d481"
      },
      "source": [
        "trainset_size = int(round(len(sms_data)*0.70))  # Split Train data and Test data. 굳이 이렇게 요란하게 해야하나? 걍 int(len(sms_data)*0.70)\n",
        "print('The training set size for this classifier is ' + str(trainset_size) + '\\n')\n",
        "\n",
        "x_train = np.array([''.join(el) for el in sms_data[0:trainset_size]])\n",
        "y_train = np.array([el for el in sms_labels[0:trainset_size]])\n",
        "x_test = np.array([''.join(el) for el in sms_data[trainset_size+1:len(sms_data)]])\n",
        "y_test = np.array(([el for el in sms_labels[trainset_size+1:len(sms_labels)]]) or el in sms_labels[trainset_size+1:len(sms_labels)])\n",
        "\n",
        "# print(x_train[:3])\n",
        "# print(y_train[:3])"
      ],
      "execution_count": 15,
      "outputs": [
        {
          "output_type": "stream",
          "text": [
            "The training set size for this classifier is 3900\n",
            "\n"
          ],
          "name": "stdout"
        }
      ]
    },
    {
      "cell_type": "code",
      "metadata": {
        "id": "PbZzRArRwEeO",
        "colab": {
          "base_uri": "https://localhost:8080/"
        },
        "outputId": "b1132bf0-787a-410a-a31e-d84dcf619fd9"
      },
      "source": [
        "# TF-IDF vectorizer: https://scikit-learn.org/stable/modules/generated/sklearn.feature_extraction.text.TfidfVectorizer.html#sklearn.feature_extraction.text.TfidfVectorizer \n",
        "from sklearn.feature_extraction.text import TfidfVectorizer\n",
        "\n",
        "# collection of raw documents -> matrix of TF-IDF features\n",
        "vectorizer2 = TfidfVectorizer(min_df=2, ngram_range=(1, 2), stop_words='english', strip_accents='unicode', norm='l2')   # alphabet 'l'\n",
        "\n",
        "# Learn vocabulary and idf, return document-term matrix\n",
        "X_train = vectorizer2.fit_transform(x_train)\n",
        "\n",
        "# Transform documents to document-term matrix\n",
        "X_test = vectorizer2.transform(x_test)\n",
        "\n",
        "print(X_train[0][0], end='\\n\\n')\n",
        "print(X_test[0][0])"
      ],
      "execution_count": 26,
      "outputs": [
        {
          "output_type": "stream",
          "text": [
            "  (0, 5594)\t0.24661726450021537\n",
            "  (0, 2307)\t0.20644946321360894\n",
            "  (0, 1219)\t0.35808670056556285\n",
            "  (0, 1024)\t0.406938447032537\n",
            "  (0, 5794)\t0.29225456822673795\n",
            "  (0, 2345)\t0.2453064894905327\n",
            "  (0, 1025)\t0.36473744198446423\n",
            "  (0, 768)\t0.330214154444826\n",
            "  (0, 1443)\t0.3469726843786785\n",
            "  (0, 3967)\t0.3077023231509078\n",
            "\n",
            "  (0, 3727)\t1.0\n"
          ],
          "name": "stdout"
        }
      ]
    },
    {
      "cell_type": "code",
      "metadata": {
        "id": "1X-silPXwEa8"
      },
      "source": [
        "# Naive Bayes\n",
        "from sklearn.naive_bayes import MultinomialNB\n",
        "clf_NB = MultinomialNB().fit(X_train, y_train)\n",
        "y_predicted_NB = clf_NB.predict(X_test)"
      ],
      "execution_count": null,
      "outputs": []
    },
    {
      "cell_type": "code",
      "metadata": {
        "id": "dUMhpReWwEXe"
      },
      "source": [
        "# Decision tree (takes long)\n",
        "from sklearn import tree\n",
        "clf_DT = tree.DecisionTreeClassifier().fit(X_train.toarray(), y_train)\n",
        "y_predicted_DT = clf_DT.predict(X_test.toarray())"
      ],
      "execution_count": null,
      "outputs": []
    },
    {
      "cell_type": "code",
      "metadata": {
        "id": "dybMMlpxwEVV"
      },
      "source": [
        "# Stochastic gradient descent\n",
        "from sklearn.linear_model import SGDClassifier\n",
        "#clf_SGD = SGDClassifier(alpha=.0001, n_iter=50).fit(X_train, y_train)\n",
        "clf_SGD = SGDClassifier(alpha=.0001).fit(X_train, y_train)\n",
        "y_predicted_SGD = clf_SGD.predict(X_test)"
      ],
      "execution_count": null,
      "outputs": []
    },
    {
      "cell_type": "code",
      "metadata": {
        "id": "eSdbOx-6vuWe"
      },
      "source": [
        "# Support Vector Machines\n",
        "from sklearn.svm import LinearSVC\n",
        "clf_SVM = LinearSVC().fit(X_train, y_train)\n",
        "y_predicted_SVM = clf_SVM.predict(X_test)"
      ],
      "execution_count": null,
      "outputs": []
    },
    {
      "cell_type": "code",
      "metadata": {
        "id": "uy2r9lrJwLZV"
      },
      "source": [
        "# The Random forest algorithm\n",
        "from sklearn.ensemble import RandomForestClassifier\n",
        "clf_RFA = RandomForestClassifier(n_estimators=10)\n",
        "clf_RFA.fit(X_train, y_train)\n",
        "y_predicted_RFA = clf_RFA.predict(X_test)"
      ],
      "execution_count": null,
      "outputs": []
    },
    {
      "cell_type": "code",
      "metadata": {
        "id": "_1370TIyv16t"
      },
      "source": [
        "from sklearn.metrics import confusion_matrix\n",
        "from sklearn.metrics import classification_report"
      ],
      "execution_count": null,
      "outputs": []
    },
    {
      "cell_type": "code",
      "metadata": {
        "colab": {
          "base_uri": "https://localhost:8080/"
        },
        "id": "05_tL5a8vVPs",
        "outputId": "c512cd20-b487-4b5e-f791-083da8b4c54d"
      },
      "source": [
        "print (' \\n confusion_matrix NB \\n ')\n",
        "cm = confusion_matrix(y_test, y_predicted_NB)\n",
        "print (cm)\n",
        "print ('\\n Here is the classification report:\\n')\n",
        "print (classification_report(y_test, y_predicted_NB))"
      ],
      "execution_count": null,
      "outputs": [
        {
          "output_type": "stream",
          "text": [
            " \n",
            " confusion_matrix NB \n",
            " \n",
            "[[1443    0]\n",
            " [  52  176]]\n",
            "\n",
            " Here is the classification report:\n",
            "\n",
            "              precision    recall  f1-score   support\n",
            "\n",
            "         ham       0.97      1.00      0.98      1443\n",
            "        spam       1.00      0.77      0.87       228\n",
            "\n",
            "    accuracy                           0.97      1671\n",
            "   macro avg       0.98      0.89      0.93      1671\n",
            "weighted avg       0.97      0.97      0.97      1671\n",
            "\n"
          ],
          "name": "stdout"
        }
      ]
    },
    {
      "cell_type": "code",
      "metadata": {
        "colab": {
          "base_uri": "https://localhost:8080/"
        },
        "id": "Qsy8cMHQvVKQ",
        "outputId": "7db4e5cd-6928-462a-a96e-116b1d901e27"
      },
      "source": [
        "print (' \\n confusion_matrix DT \\n ')\n",
        "cm = confusion_matrix(y_test, y_predicted_DT)\n",
        "print (cm)\n",
        "print ('\\n Here is the classification report:\\n')\n",
        "print (classification_report(y_test, y_predicted_DT))"
      ],
      "execution_count": null,
      "outputs": [
        {
          "output_type": "stream",
          "text": [
            " \n",
            " confusion_matrix DT \n",
            " \n",
            "[[1413   30]\n",
            " [  41  187]]\n",
            "\n",
            " Here is the classification report:\n",
            "\n",
            "              precision    recall  f1-score   support\n",
            "\n",
            "         ham       0.97      0.98      0.98      1443\n",
            "        spam       0.86      0.82      0.84       228\n",
            "\n",
            "    accuracy                           0.96      1671\n",
            "   macro avg       0.92      0.90      0.91      1671\n",
            "weighted avg       0.96      0.96      0.96      1671\n",
            "\n"
          ],
          "name": "stdout"
        }
      ]
    },
    {
      "cell_type": "code",
      "metadata": {
        "colab": {
          "base_uri": "https://localhost:8080/"
        },
        "id": "hZF6rZBrvVGp",
        "outputId": "d6ad98a2-a6fb-4af4-faae-73e6e0e7f3ab"
      },
      "source": [
        "print (' \\n confusion_matrix SGD \\n ')\n",
        "cm = confusion_matrix(y_test, y_predicted_SGD)\n",
        "print (cm)\n",
        "print ('\\n Here is the classification report:\\n')\n",
        "print (classification_report(y_test, y_predicted_SGD))"
      ],
      "execution_count": null,
      "outputs": [
        {
          "output_type": "stream",
          "text": [
            " \n",
            " confusion_matrix SGD \n",
            " \n",
            "[[1436    7]\n",
            " [  21  207]]\n",
            "\n",
            " Here is the classification report:\n",
            "\n",
            "              precision    recall  f1-score   support\n",
            "\n",
            "         ham       0.99      1.00      0.99      1443\n",
            "        spam       0.97      0.91      0.94       228\n",
            "\n",
            "    accuracy                           0.98      1671\n",
            "   macro avg       0.98      0.95      0.96      1671\n",
            "weighted avg       0.98      0.98      0.98      1671\n",
            "\n"
          ],
          "name": "stdout"
        }
      ]
    },
    {
      "cell_type": "code",
      "metadata": {
        "colab": {
          "base_uri": "https://localhost:8080/"
        },
        "id": "lBy5XyukvVB6",
        "outputId": "89e4ba58-596c-47a8-b0c7-e593cd9f469b"
      },
      "source": [
        "print (' \\n confusion_matrix SVM\\n ')\n",
        "cm = confusion_matrix(y_test, y_predicted_SVM)\n",
        "print (cm)\n",
        "print ('\\n Here is the classification report:\\n')\n",
        "print (classification_report(y_test, y_predicted_SVM))"
      ],
      "execution_count": null,
      "outputs": [
        {
          "output_type": "stream",
          "text": [
            " \n",
            " confusion_matrix SVM\n",
            " \n",
            "[[1437    6]\n",
            " [  24  204]]\n",
            "\n",
            " Here is the classification report:\n",
            "\n",
            "              precision    recall  f1-score   support\n",
            "\n",
            "         ham       0.98      1.00      0.99      1443\n",
            "        spam       0.97      0.89      0.93       228\n",
            "\n",
            "    accuracy                           0.98      1671\n",
            "   macro avg       0.98      0.95      0.96      1671\n",
            "weighted avg       0.98      0.98      0.98      1671\n",
            "\n"
          ],
          "name": "stdout"
        }
      ]
    },
    {
      "cell_type": "code",
      "metadata": {
        "colab": {
          "base_uri": "https://localhost:8080/"
        },
        "id": "VU4fs0Jkvg65",
        "outputId": "a0886b6a-f6fa-47bf-d623-fd6e8d695086"
      },
      "source": [
        "print (' \\n confusion_matrix RFA \\n ')\n",
        "cm = confusion_matrix(y_test, y_predicted_RFA)\n",
        "print (cm)\n",
        "print ('\\n Here is the classification report:\\n')\n",
        "print (classification_report(y_test, y_predicted_RFA))"
      ],
      "execution_count": null,
      "outputs": [
        {
          "output_type": "stream",
          "text": [
            " \n",
            " confusion_matrix RFA \n",
            " \n",
            "[[1443    0]\n",
            " [  44  184]]\n",
            "\n",
            " Here is the classification report:\n",
            "\n",
            "              precision    recall  f1-score   support\n",
            "\n",
            "         ham       0.97      1.00      0.98      1443\n",
            "        spam       1.00      0.81      0.89       228\n",
            "\n",
            "    accuracy                           0.97      1671\n",
            "   macro avg       0.99      0.90      0.94      1671\n",
            "weighted avg       0.97      0.97      0.97      1671\n",
            "\n"
          ],
          "name": "stdout"
        }
      ]
    }
  ]
}