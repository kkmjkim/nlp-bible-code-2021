{
  "nbformat": 4,
  "nbformat_minor": 0,
  "metadata": {
    "colab": {
      "name": "실습 [9-1] N-gram 언어 모델로 문장 생성하기",
      "provenance": [],
      "collapsed_sections": []
    },
    "kernelspec": {
      "name": "python3",
      "display_name": "Python 3"
    }
  },
  "cells": [
    {
      "cell_type": "markdown",
      "metadata": {
        "id": "ghdvmIsv2jul"
      },
      "source": [
        "## 실습 [9-1]  \n",
        "\n",
        "### 1. 실습명 : N-gram 언어 모델로 문장 생성하기\n",
        "### 2. 실습 목적 및 설명\n",
        " \n",
        "*   파이썬의 NLTK 패키지를 이용하여 N-gram 언어 모델을 구축한다\n",
        "*   네이버에서 오픈 소스로 제공하는 nsmc 영화 리뷰 데이터셋을 이용해 문장을 생성한다.\n",
        "\n",
        "### 3. 관련 장(챕터) : 9.2.2 N-gram 언어 모델 (N-gram Language Model)\n",
        "### 4. 코드"
      ]
    },
    {
      "cell_type": "code",
      "metadata": {
        "id": "Ex4VLpId3e-T"
      },
      "source": [
        "import nltk\n",
        "from nltk.util import ngrams\n",
        "from nltk import word_tokenize\n",
        "from nltk import ConditionalFreqDist\n",
        "from nltk.probability import ConditionalProbDist, MLEProbDist\n",
        "import numpy as np\n",
        "import codecs\n",
        "from tqdm import tqdm\n",
        "import random"
      ],
      "execution_count": 1,
      "outputs": []
    },
    {
      "cell_type": "code",
      "metadata": {
        "id": "5wazYRi07LIj",
        "colab": {
          "base_uri": "https://localhost:8080/"
        },
        "outputId": "74ced9b5-87f9-49fd-b508-c6232cec3865"
      },
      "source": [
        "# 한국어 처리에 필요한 konlpy 패키지를 설치하기 전에 선행 파일을 설치한다. \n",
        "!apt-get update\n",
        "\n",
        "!apt-get install g++ openjdk-8-jdk python-dev python3-dev\n",
        "\n",
        "# allow python programs full access to java class libraries\n",
        "!pip3 install JPype1-py3\n",
        "\n",
        "!pip3 install konlpy\n",
        "\n",
        "!JAVA_HOME=\"/usr/lib/jvm/java-8-openjdk-amd64\"\n",
        "\n",
        "from konlpy.tag import Okt"
      ],
      "execution_count": 2,
      "outputs": [
        {
          "output_type": "stream",
          "text": [
            "\r0% [Working]\r            \rGet:1 https://cloud.r-project.org/bin/linux/ubuntu bionic-cran40/ InRelease [3,626 B]\n",
            "\r0% [Connecting to archive.ubuntu.com (91.189.88.142)] [Connecting to security.u\r0% [Connecting to archive.ubuntu.com (91.189.88.142)] [Connecting to security.u\r                                                                               \rIgn:2 https://developer.download.nvidia.com/compute/cuda/repos/ubuntu1804/x86_64  InRelease\n",
            "\r0% [Connecting to archive.ubuntu.com (91.189.88.142)] [Connecting to security.u\r0% [1 InRelease gpgv 3,626 B] [Connecting to archive.ubuntu.com (91.189.88.142)\r                                                                               \rIgn:3 https://developer.download.nvidia.com/compute/machine-learning/repos/ubuntu1804/x86_64  InRelease\n",
            "\r0% [1 InRelease gpgv 3,626 B] [Connecting to archive.ubuntu.com (91.189.88.142)\r                                                                               \rHit:4 https://developer.download.nvidia.com/compute/cuda/repos/ubuntu1804/x86_64  Release\n",
            "Hit:5 https://developer.download.nvidia.com/compute/machine-learning/repos/ubuntu1804/x86_64  Release\n",
            "Hit:6 http://archive.ubuntu.com/ubuntu bionic InRelease\n",
            "Get:7 http://security.ubuntu.com/ubuntu bionic-security InRelease [88.7 kB]\n",
            "Get:8 http://archive.ubuntu.com/ubuntu bionic-updates InRelease [88.7 kB]\n",
            "Get:9 http://ppa.launchpad.net/c2d4u.team/c2d4u4.0+/ubuntu bionic InRelease [15.9 kB]\n",
            "Hit:12 http://ppa.launchpad.net/cran/libgit2/ubuntu bionic InRelease\n",
            "Get:13 http://archive.ubuntu.com/ubuntu bionic-backports InRelease [74.6 kB]\n",
            "Hit:14 http://ppa.launchpad.net/deadsnakes/ppa/ubuntu bionic InRelease\n",
            "Get:15 http://ppa.launchpad.net/graphics-drivers/ppa/ubuntu bionic InRelease [21.3 kB]\n",
            "Get:16 http://security.ubuntu.com/ubuntu bionic-security/main amd64 Packages [2,045 kB]\n",
            "Get:17 http://archive.ubuntu.com/ubuntu bionic-updates/restricted amd64 Packages [378 kB]\n",
            "Get:18 http://ppa.launchpad.net/c2d4u.team/c2d4u4.0+/ubuntu bionic/main Sources [1,748 kB]\n",
            "Get:19 http://archive.ubuntu.com/ubuntu bionic-updates/universe amd64 Packages [2,170 kB]\n",
            "Get:20 http://security.ubuntu.com/ubuntu bionic-security/restricted amd64 Packages [348 kB]\n",
            "Get:21 http://security.ubuntu.com/ubuntu bionic-security/universe amd64 Packages [1,402 kB]\n",
            "Get:22 http://archive.ubuntu.com/ubuntu bionic-updates/main amd64 Packages [2,475 kB]\n",
            "Get:23 http://ppa.launchpad.net/c2d4u.team/c2d4u4.0+/ubuntu bionic/main amd64 Packages [894 kB]\n",
            "Get:24 http://ppa.launchpad.net/graphics-drivers/ppa/ubuntu bionic/main amd64 Packages [49.4 kB]\n",
            "Fetched 11.8 MB in 5s (2,559 kB/s)\n",
            "Reading package lists... Done\n",
            "Reading package lists... Done\n",
            "Building dependency tree       \n",
            "Reading state information... Done\n",
            "python-dev is already the newest version (2.7.15~rc1-1).\n",
            "g++ is already the newest version (4:7.4.0-1ubuntu2.3).\n",
            "g++ set to manually installed.\n",
            "python3-dev is already the newest version (3.6.7-1~18.04).\n",
            "python3-dev set to manually installed.\n",
            "The following additional packages will be installed:\n",
            "  fonts-dejavu-core fonts-dejavu-extra libatk-wrapper-java\n",
            "  libatk-wrapper-java-jni libgail-common libgail18 libgtk2.0-0 libgtk2.0-bin\n",
            "  libgtk2.0-common libxxf86dga1 openjdk-8-jdk-headless openjdk-8-jre\n",
            "  openjdk-8-jre-headless x11-utils\n",
            "Suggested packages:\n",
            "  gvfs openjdk-8-demo openjdk-8-source visualvm icedtea-8-plugin libnss-mdns\n",
            "  fonts-ipafont-gothic fonts-ipafont-mincho fonts-wqy-microhei\n",
            "  fonts-wqy-zenhei fonts-indic mesa-utils\n",
            "The following NEW packages will be installed:\n",
            "  fonts-dejavu-core fonts-dejavu-extra libatk-wrapper-java\n",
            "  libatk-wrapper-java-jni libgail-common libgail18 libgtk2.0-0 libgtk2.0-bin\n",
            "  libgtk2.0-common libxxf86dga1 openjdk-8-jdk openjdk-8-jdk-headless\n",
            "  openjdk-8-jre openjdk-8-jre-headless x11-utils\n",
            "0 upgraded, 15 newly installed, 0 to remove and 59 not upgraded.\n",
            "Need to get 43.5 MB of archives.\n",
            "After this operation, 163 MB of additional disk space will be used.\n",
            "Get:1 http://archive.ubuntu.com/ubuntu bionic/main amd64 libxxf86dga1 amd64 2:1.1.4-1 [13.7 kB]\n",
            "Get:2 http://archive.ubuntu.com/ubuntu bionic/main amd64 fonts-dejavu-core all 2.37-1 [1,041 kB]\n",
            "Get:3 http://archive.ubuntu.com/ubuntu bionic/main amd64 fonts-dejavu-extra all 2.37-1 [1,953 kB]\n",
            "Get:4 http://archive.ubuntu.com/ubuntu bionic/main amd64 x11-utils amd64 7.7+3build1 [196 kB]\n",
            "Get:5 http://archive.ubuntu.com/ubuntu bionic/main amd64 libatk-wrapper-java all 0.33.3-20ubuntu0.1 [34.7 kB]\n",
            "Get:6 http://archive.ubuntu.com/ubuntu bionic/main amd64 libatk-wrapper-java-jni amd64 0.33.3-20ubuntu0.1 [28.3 kB]\n",
            "Get:7 http://archive.ubuntu.com/ubuntu bionic/main amd64 libgtk2.0-common all 2.24.32-1ubuntu1 [125 kB]\n",
            "Get:8 http://archive.ubuntu.com/ubuntu bionic/main amd64 libgtk2.0-0 amd64 2.24.32-1ubuntu1 [1,769 kB]\n",
            "Get:9 http://archive.ubuntu.com/ubuntu bionic/main amd64 libgail18 amd64 2.24.32-1ubuntu1 [14.2 kB]\n",
            "Get:10 http://archive.ubuntu.com/ubuntu bionic/main amd64 libgail-common amd64 2.24.32-1ubuntu1 [112 kB]\n",
            "Get:11 http://archive.ubuntu.com/ubuntu bionic/main amd64 libgtk2.0-bin amd64 2.24.32-1ubuntu1 [7,536 B]\n",
            "Get:12 http://archive.ubuntu.com/ubuntu bionic-updates/universe amd64 openjdk-8-jre-headless amd64 8u282-b08-0ubuntu1~18.04 [28.2 MB]\n",
            "Get:13 http://archive.ubuntu.com/ubuntu bionic-updates/universe amd64 openjdk-8-jre amd64 8u282-b08-0ubuntu1~18.04 [69.7 kB]\n",
            "Get:14 http://archive.ubuntu.com/ubuntu bionic-updates/universe amd64 openjdk-8-jdk-headless amd64 8u282-b08-0ubuntu1~18.04 [8,267 kB]\n",
            "Get:15 http://archive.ubuntu.com/ubuntu bionic-updates/universe amd64 openjdk-8-jdk amd64 8u282-b08-0ubuntu1~18.04 [1,630 kB]\n",
            "Fetched 43.5 MB in 3s (12.9 MB/s)\n",
            "Selecting previously unselected package libxxf86dga1:amd64.\n",
            "(Reading database ... 160980 files and directories currently installed.)\n",
            "Preparing to unpack .../00-libxxf86dga1_2%3a1.1.4-1_amd64.deb ...\n",
            "Unpacking libxxf86dga1:amd64 (2:1.1.4-1) ...\n",
            "Selecting previously unselected package fonts-dejavu-core.\n",
            "Preparing to unpack .../01-fonts-dejavu-core_2.37-1_all.deb ...\n",
            "Unpacking fonts-dejavu-core (2.37-1) ...\n",
            "Selecting previously unselected package fonts-dejavu-extra.\n",
            "Preparing to unpack .../02-fonts-dejavu-extra_2.37-1_all.deb ...\n",
            "Unpacking fonts-dejavu-extra (2.37-1) ...\n",
            "Selecting previously unselected package x11-utils.\n",
            "Preparing to unpack .../03-x11-utils_7.7+3build1_amd64.deb ...\n",
            "Unpacking x11-utils (7.7+3build1) ...\n",
            "Selecting previously unselected package libatk-wrapper-java.\n",
            "Preparing to unpack .../04-libatk-wrapper-java_0.33.3-20ubuntu0.1_all.deb ...\n",
            "Unpacking libatk-wrapper-java (0.33.3-20ubuntu0.1) ...\n",
            "Selecting previously unselected package libatk-wrapper-java-jni:amd64.\n",
            "Preparing to unpack .../05-libatk-wrapper-java-jni_0.33.3-20ubuntu0.1_amd64.deb ...\n",
            "Unpacking libatk-wrapper-java-jni:amd64 (0.33.3-20ubuntu0.1) ...\n",
            "Selecting previously unselected package libgtk2.0-common.\n",
            "Preparing to unpack .../06-libgtk2.0-common_2.24.32-1ubuntu1_all.deb ...\n",
            "Unpacking libgtk2.0-common (2.24.32-1ubuntu1) ...\n",
            "Selecting previously unselected package libgtk2.0-0:amd64.\n",
            "Preparing to unpack .../07-libgtk2.0-0_2.24.32-1ubuntu1_amd64.deb ...\n",
            "Unpacking libgtk2.0-0:amd64 (2.24.32-1ubuntu1) ...\n",
            "Selecting previously unselected package libgail18:amd64.\n",
            "Preparing to unpack .../08-libgail18_2.24.32-1ubuntu1_amd64.deb ...\n",
            "Unpacking libgail18:amd64 (2.24.32-1ubuntu1) ...\n",
            "Selecting previously unselected package libgail-common:amd64.\n",
            "Preparing to unpack .../09-libgail-common_2.24.32-1ubuntu1_amd64.deb ...\n",
            "Unpacking libgail-common:amd64 (2.24.32-1ubuntu1) ...\n",
            "Selecting previously unselected package libgtk2.0-bin.\n",
            "Preparing to unpack .../10-libgtk2.0-bin_2.24.32-1ubuntu1_amd64.deb ...\n",
            "Unpacking libgtk2.0-bin (2.24.32-1ubuntu1) ...\n",
            "Selecting previously unselected package openjdk-8-jre-headless:amd64.\n",
            "Preparing to unpack .../11-openjdk-8-jre-headless_8u282-b08-0ubuntu1~18.04_amd64.deb ...\n",
            "Unpacking openjdk-8-jre-headless:amd64 (8u282-b08-0ubuntu1~18.04) ...\n",
            "Selecting previously unselected package openjdk-8-jre:amd64.\n",
            "Preparing to unpack .../12-openjdk-8-jre_8u282-b08-0ubuntu1~18.04_amd64.deb ...\n",
            "Unpacking openjdk-8-jre:amd64 (8u282-b08-0ubuntu1~18.04) ...\n",
            "Selecting previously unselected package openjdk-8-jdk-headless:amd64.\n",
            "Preparing to unpack .../13-openjdk-8-jdk-headless_8u282-b08-0ubuntu1~18.04_amd64.deb ...\n",
            "Unpacking openjdk-8-jdk-headless:amd64 (8u282-b08-0ubuntu1~18.04) ...\n",
            "Selecting previously unselected package openjdk-8-jdk:amd64.\n",
            "Preparing to unpack .../14-openjdk-8-jdk_8u282-b08-0ubuntu1~18.04_amd64.deb ...\n",
            "Unpacking openjdk-8-jdk:amd64 (8u282-b08-0ubuntu1~18.04) ...\n",
            "Setting up libgtk2.0-common (2.24.32-1ubuntu1) ...\n",
            "Setting up fonts-dejavu-core (2.37-1) ...\n",
            "Setting up libxxf86dga1:amd64 (2:1.1.4-1) ...\n",
            "Setting up fonts-dejavu-extra (2.37-1) ...\n",
            "Setting up openjdk-8-jre-headless:amd64 (8u282-b08-0ubuntu1~18.04) ...\n",
            "update-alternatives: using /usr/lib/jvm/java-8-openjdk-amd64/jre/bin/orbd to provide /usr/bin/orbd (orbd) in auto mode\n",
            "update-alternatives: using /usr/lib/jvm/java-8-openjdk-amd64/jre/bin/servertool to provide /usr/bin/servertool (servertool) in auto mode\n",
            "update-alternatives: using /usr/lib/jvm/java-8-openjdk-amd64/jre/bin/tnameserv to provide /usr/bin/tnameserv (tnameserv) in auto mode\n",
            "Setting up libgtk2.0-0:amd64 (2.24.32-1ubuntu1) ...\n",
            "Setting up libgail18:amd64 (2.24.32-1ubuntu1) ...\n",
            "Setting up openjdk-8-jdk-headless:amd64 (8u282-b08-0ubuntu1~18.04) ...\n",
            "update-alternatives: using /usr/lib/jvm/java-8-openjdk-amd64/bin/idlj to provide /usr/bin/idlj (idlj) in auto mode\n",
            "update-alternatives: using /usr/lib/jvm/java-8-openjdk-amd64/bin/wsimport to provide /usr/bin/wsimport (wsimport) in auto mode\n",
            "update-alternatives: using /usr/lib/jvm/java-8-openjdk-amd64/bin/jsadebugd to provide /usr/bin/jsadebugd (jsadebugd) in auto mode\n",
            "update-alternatives: using /usr/lib/jvm/java-8-openjdk-amd64/bin/native2ascii to provide /usr/bin/native2ascii (native2ascii) in auto mode\n",
            "update-alternatives: using /usr/lib/jvm/java-8-openjdk-amd64/bin/javah to provide /usr/bin/javah (javah) in auto mode\n",
            "update-alternatives: using /usr/lib/jvm/java-8-openjdk-amd64/bin/hsdb to provide /usr/bin/hsdb (hsdb) in auto mode\n",
            "update-alternatives: using /usr/lib/jvm/java-8-openjdk-amd64/bin/clhsdb to provide /usr/bin/clhsdb (clhsdb) in auto mode\n",
            "update-alternatives: using /usr/lib/jvm/java-8-openjdk-amd64/bin/xjc to provide /usr/bin/xjc (xjc) in auto mode\n",
            "update-alternatives: using /usr/lib/jvm/java-8-openjdk-amd64/bin/schemagen to provide /usr/bin/schemagen (schemagen) in auto mode\n",
            "update-alternatives: using /usr/lib/jvm/java-8-openjdk-amd64/bin/extcheck to provide /usr/bin/extcheck (extcheck) in auto mode\n",
            "update-alternatives: using /usr/lib/jvm/java-8-openjdk-amd64/bin/jhat to provide /usr/bin/jhat (jhat) in auto mode\n",
            "update-alternatives: using /usr/lib/jvm/java-8-openjdk-amd64/bin/wsgen to provide /usr/bin/wsgen (wsgen) in auto mode\n",
            "Setting up x11-utils (7.7+3build1) ...\n",
            "Setting up libgail-common:amd64 (2.24.32-1ubuntu1) ...\n",
            "Setting up libatk-wrapper-java (0.33.3-20ubuntu0.1) ...\n",
            "Setting up libgtk2.0-bin (2.24.32-1ubuntu1) ...\n",
            "Setting up libatk-wrapper-java-jni:amd64 (0.33.3-20ubuntu0.1) ...\n",
            "Setting up openjdk-8-jre:amd64 (8u282-b08-0ubuntu1~18.04) ...\n",
            "update-alternatives: using /usr/lib/jvm/java-8-openjdk-amd64/jre/bin/policytool to provide /usr/bin/policytool (policytool) in auto mode\n",
            "Setting up openjdk-8-jdk:amd64 (8u282-b08-0ubuntu1~18.04) ...\n",
            "update-alternatives: using /usr/lib/jvm/java-8-openjdk-amd64/bin/appletviewer to provide /usr/bin/appletviewer (appletviewer) in auto mode\n",
            "update-alternatives: using /usr/lib/jvm/java-8-openjdk-amd64/bin/jconsole to provide /usr/bin/jconsole (jconsole) in auto mode\n",
            "Processing triggers for man-db (2.8.3-2ubuntu0.1) ...\n",
            "Processing triggers for hicolor-icon-theme (0.17-2) ...\n",
            "Processing triggers for fontconfig (2.12.6-0ubuntu2) ...\n",
            "Processing triggers for mime-support (3.60ubuntu1) ...\n",
            "Processing triggers for libc-bin (2.27-3ubuntu1.2) ...\n",
            "/sbin/ldconfig.real: /usr/local/lib/python3.7/dist-packages/ideep4py/lib/libmkldnn.so.0 is not a symbolic link\n",
            "\n",
            "Collecting JPype1-py3\n",
            "\u001b[?25l  Downloading https://files.pythonhosted.org/packages/9b/81/63f5e4202c598f362ee4684b41890f993d6e58309c5d90703f570ab85f62/JPype1-py3-0.5.5.4.tar.gz (88kB)\n",
            "\u001b[K     |████████████████████████████████| 92kB 5.0MB/s \n",
            "\u001b[?25hBuilding wheels for collected packages: JPype1-py3\n",
            "  Building wheel for JPype1-py3 (setup.py) ... \u001b[?25l\u001b[?25hdone\n",
            "  Created wheel for JPype1-py3: filename=JPype1_py3-0.5.5.4-cp37-cp37m-linux_x86_64.whl size=2689338 sha256=aa8582c6bdcb5a62c7d213d06728829605646b4a3dc93c81d8a85d1c51283780\n",
            "  Stored in directory: /root/.cache/pip/wheels/52/37/1f/1015d908d12a0e9b239543d031fda0cded9823aa1306939541\n",
            "Successfully built JPype1-py3\n",
            "Installing collected packages: JPype1-py3\n",
            "Successfully installed JPype1-py3-0.5.5.4\n",
            "Collecting konlpy\n",
            "\u001b[?25l  Downloading https://files.pythonhosted.org/packages/85/0e/f385566fec837c0b83f216b2da65db9997b35dd675e107752005b7d392b1/konlpy-0.5.2-py2.py3-none-any.whl (19.4MB)\n",
            "\u001b[K     |████████████████████████████████| 19.4MB 1.3MB/s \n",
            "\u001b[?25hRequirement already satisfied: lxml>=4.1.0 in /usr/local/lib/python3.7/dist-packages (from konlpy) (4.2.6)\n",
            "Collecting beautifulsoup4==4.6.0\n",
            "\u001b[?25l  Downloading https://files.pythonhosted.org/packages/9e/d4/10f46e5cfac773e22707237bfcd51bbffeaf0a576b0a847ec7ab15bd7ace/beautifulsoup4-4.6.0-py3-none-any.whl (86kB)\n",
            "\u001b[K     |████████████████████████████████| 92kB 9.1MB/s \n",
            "\u001b[?25hRequirement already satisfied: tweepy>=3.7.0 in /usr/local/lib/python3.7/dist-packages (from konlpy) (3.10.0)\n",
            "Collecting JPype1>=0.7.0\n",
            "\u001b[?25l  Downloading https://files.pythonhosted.org/packages/cd/a5/9781e2ef4ca92d09912c4794642c1653aea7607f473e156cf4d423a881a1/JPype1-1.2.1-cp37-cp37m-manylinux2010_x86_64.whl (457kB)\n",
            "\u001b[K     |████████████████████████████████| 460kB 28.7MB/s \n",
            "\u001b[?25hRequirement already satisfied: numpy>=1.6 in /usr/local/lib/python3.7/dist-packages (from konlpy) (1.19.5)\n",
            "Collecting colorama\n",
            "  Downloading https://files.pythonhosted.org/packages/44/98/5b86278fbbf250d239ae0ecb724f8572af1c91f4a11edf4d36a206189440/colorama-0.4.4-py2.py3-none-any.whl\n",
            "Requirement already satisfied: requests-oauthlib>=0.7.0 in /usr/local/lib/python3.7/dist-packages (from tweepy>=3.7.0->konlpy) (1.3.0)\n",
            "Requirement already satisfied: six>=1.10.0 in /usr/local/lib/python3.7/dist-packages (from tweepy>=3.7.0->konlpy) (1.15.0)\n",
            "Requirement already satisfied: requests[socks]>=2.11.1 in /usr/local/lib/python3.7/dist-packages (from tweepy>=3.7.0->konlpy) (2.23.0)\n",
            "Requirement already satisfied: typing-extensions; python_version < \"3.8\" in /usr/local/lib/python3.7/dist-packages (from JPype1>=0.7.0->konlpy) (3.7.4.3)\n",
            "Requirement already satisfied: oauthlib>=3.0.0 in /usr/local/lib/python3.7/dist-packages (from requests-oauthlib>=0.7.0->tweepy>=3.7.0->konlpy) (3.1.0)\n",
            "Requirement already satisfied: chardet<4,>=3.0.2 in /usr/local/lib/python3.7/dist-packages (from requests[socks]>=2.11.1->tweepy>=3.7.0->konlpy) (3.0.4)\n",
            "Requirement already satisfied: idna<3,>=2.5 in /usr/local/lib/python3.7/dist-packages (from requests[socks]>=2.11.1->tweepy>=3.7.0->konlpy) (2.10)\n",
            "Requirement already satisfied: certifi>=2017.4.17 in /usr/local/lib/python3.7/dist-packages (from requests[socks]>=2.11.1->tweepy>=3.7.0->konlpy) (2020.12.5)\n",
            "Requirement already satisfied: urllib3!=1.25.0,!=1.25.1,<1.26,>=1.21.1 in /usr/local/lib/python3.7/dist-packages (from requests[socks]>=2.11.1->tweepy>=3.7.0->konlpy) (1.24.3)\n",
            "Requirement already satisfied: PySocks!=1.5.7,>=1.5.6; extra == \"socks\" in /usr/local/lib/python3.7/dist-packages (from requests[socks]>=2.11.1->tweepy>=3.7.0->konlpy) (1.7.1)\n",
            "Installing collected packages: beautifulsoup4, JPype1, colorama, konlpy\n",
            "  Found existing installation: beautifulsoup4 4.6.3\n",
            "    Uninstalling beautifulsoup4-4.6.3:\n",
            "      Successfully uninstalled beautifulsoup4-4.6.3\n",
            "Successfully installed JPype1-1.2.1 beautifulsoup4-4.6.0 colorama-0.4.4 konlpy-0.5.2\n"
          ],
          "name": "stdout"
        }
      ]
    },
    {
      "cell_type": "code",
      "metadata": {
        "id": "dJbbAta148Tc"
      },
      "source": [
        "# NLTK 패키지를 이용하여 입력 텍스트를 N-gram 형태로 변환한다.\n",
        "sentence = \"나는 매일 아침 지하철을 탄다\""
      ],
      "execution_count": 9,
      "outputs": []
    },
    {
      "cell_type": "code",
      "metadata": {
        "id": "Kvvfewcs5OR4",
        "colab": {
          "base_uri": "https://localhost:8080/"
        },
        "outputId": "20d80d7c-f3b3-4d5f-97cd-9e9f475d4d50"
      },
      "source": [
        "# NLTK 사용을 위하여 선행 패키지를 설치한다.\n",
        "nltk.download('punkt')\n",
        "\n",
        "# 입력 텍스트를 띄어쓰기 기준으로 토큰화한다.\n",
        "tokens = word_tokenize(sentence) "
      ],
      "execution_count": 10,
      "outputs": [
        {
          "output_type": "stream",
          "text": [
            "[nltk_data] Downloading package punkt to /root/nltk_data...\n",
            "[nltk_data]   Package punkt is already up-to-date!\n"
          ],
          "name": "stdout"
        }
      ]
    },
    {
      "cell_type": "code",
      "metadata": {
        "id": "fSAEP3U65nav",
        "colab": {
          "base_uri": "https://localhost:8080/"
        },
        "outputId": "fc6d8495-e861-4a5a-c1ba-f20e5d343b94"
      },
      "source": [
        "print(tokens)"
      ],
      "execution_count": 11,
      "outputs": [
        {
          "output_type": "stream",
          "text": [
            "['나는', '매일', '아침', '지하철을', '탄다']\n"
          ],
          "name": "stdout"
        }
      ]
    },
    {
      "cell_type": "code",
      "metadata": {
        "id": "jLTfZw_fcxhs",
        "colab": {
          "base_uri": "https://localhost:8080/"
        },
        "outputId": "9839afc2-720e-4b63-afdf-c364039ce7e8"
      },
      "source": [
        "# 한국어의 단어는 띄어쓰기를 기준으로 하지 않기 때문에 konlpy를 이용해 형태소를 기준으로 토큰화한다.\n",
        "tagger = Okt() # 과거 트위터 형태소 분석기\n",
        "\n",
        "def tokenize(text):\n",
        "  tokens = ['/'.join(t) for t in tagger.pos(text)]\n",
        "  return tokens\n",
        "\n",
        "tokens = tokenize(sentence)\n",
        "print(tokens)"
      ],
      "execution_count": 12,
      "outputs": [
        {
          "output_type": "stream",
          "text": [
            "['나/Noun', '는/Josa', '매일/Noun', '아침/Noun', '지하철/Noun', '을/Josa', '탄다/Verb']\n"
          ],
          "name": "stdout"
        }
      ]
    },
    {
      "cell_type": "code",
      "metadata": {
        "id": "dgWgUE_N5yEf"
      },
      "source": [
        "# 토큰을 N-gram의 형태로 바꾸어준다. \n",
        "# ngrams 함수의 두 번째 인자로 N값을 지정할 수 있다.\n",
        "# ngrams는 nltk.util 안에 있다 https://www.nltk.org/api/nltk.html#nltk.util.ngrams \n",
        "bigram = ngrams(tokens, 2) # Return type: sequence or iter\n",
        "trigram = ngrams(tokens, 3)"
      ],
      "execution_count": 17,
      "outputs": []
    },
    {
      "cell_type": "code",
      "metadata": {
        "id": "1FTnRG9O63WX",
        "colab": {
          "base_uri": "https://localhost:8080/"
        },
        "outputId": "7013150c-74d6-4bd8-be5e-3836de02c133"
      },
      "source": [
        "# N-gram을 출력해본다.\n",
        "print(\"bigram: \")\n",
        "for b in bigram:\n",
        "  print(b)\n",
        "\n",
        "print(\"\\ntrigram: \")\n",
        "for t in trigram:\n",
        "  print(t) "
      ],
      "execution_count": 18,
      "outputs": [
        {
          "output_type": "stream",
          "text": [
            "bigram: \n",
            "('나/Noun', '는/Josa')\n",
            "('는/Josa', '매일/Noun')\n",
            "('매일/Noun', '아침/Noun')\n",
            "('아침/Noun', '지하철/Noun')\n",
            "('지하철/Noun', '을/Josa')\n",
            "('을/Josa', '탄다/Verb')\n",
            "\n",
            "trigram: \n",
            "('나/Noun', '는/Josa', '매일/Noun')\n",
            "('는/Josa', '매일/Noun', '아침/Noun')\n",
            "('매일/Noun', '아침/Noun', '지하철/Noun')\n",
            "('아침/Noun', '지하철/Noun', '을/Josa')\n",
            "('지하철/Noun', '을/Josa', '탄다/Verb')\n"
          ],
          "name": "stdout"
        }
      ]
    },
    {
      "cell_type": "code",
      "metadata": {
        "id": "F0MpXv1H6_Gd",
        "colab": {
          "base_uri": "https://localhost:8080/",
          "height": 185
        },
        "outputId": "94937940-2e6d-4350-dfb3-d8800b2b4ce1"
      },
      "source": [
        "# padding을 통해 입력 데이터에 문장의 시작과 끝을 알리는 토큰을 추가한다.\n",
        "# https://www.nltk.org/api/nltk.html#nltk.util.ngrams  \n",
        "bigram = ngrams(tokens, 2, pad_left=True, pad_right=True, left_pad_symbol=\"<s>\", right_pad_symbol=\"</s>\")\n",
        "print(\"bigrams with padding: \")\n",
        "for b in bigram:\n",
        "  print(b)"
      ],
      "execution_count": null,
      "outputs": [
        {
          "output_type": "stream",
          "text": [
            "bigram with padding: \n",
            "('<s>', '나/Noun')\n",
            "('나/Noun', '는/Josa')\n",
            "('는/Josa', '매일/Noun')\n",
            "('매일/Noun', '아침/Noun')\n",
            "('아침/Noun', '지하철/Noun')\n",
            "('지하철/Noun', '을/Josa')\n",
            "('을/Josa', '탄다/Verb')\n",
            "('탄다/Verb', '</s>')\n"
          ],
          "name": "stdout"
        }
      ]
    },
    {
      "cell_type": "code",
      "metadata": {
        "id": "Cr25hyHn9Shh",
        "colab": {
          "base_uri": "https://localhost:8080/"
        },
        "outputId": "83246a85-f8a3-47cd-f0e6-327080e6cd47"
      },
      "source": [
        "# 문장 생성을 위하여 네이버 영화 리뷰 데이터셋을 다운로드한다. (web get)\n",
        "%%time\n",
        "!wget -nc -q https://raw.githubusercontent.com/e9t/nsmc/master/ratings_train.txt # raw 텍스트 파일"
      ],
      "execution_count": 19,
      "outputs": [
        {
          "output_type": "stream",
          "text": [
            "CPU times: user 11.8 ms, sys: 14.3 ms, total: 26.2 ms\n",
            "Wall time: 1.13 s\n"
          ],
          "name": "stdout"
        }
      ]
    },
    {
      "cell_type": "code",
      "metadata": {
        "id": "TS64JsKs92Xi",
        "colab": {
          "base_uri": "https://localhost:8080/"
        },
        "outputId": "76bbec16-6b11-4c9b-9f65-d58356c0210a"
      },
      "source": [
        "# 다운로드 받은 데이터셋을 읽고 인덱스와 라벨을 제외한 텍스트 부분만 가져온다.\n",
        "# codecs 패키지는 대용량 파일을 조금씩 읽을 수 있게 해준다. \n",
        "\n",
        "with codecs.open(\"ratings_train.txt\", encoding='utf-8') as f:\n",
        "  data = [line.split('\\t') for line in f.read().splitlines()] # \\n 제외 -> [['id', 'document', 'label'], ['9976970', '아 더빙.. 진짜 짜증나네요 목소리', '0'], ...]\n",
        "  data = data[1:] # header 제외\n",
        "print(\"데이터셋: \", data[:10])\n",
        "docs = [row[1] for row in data] # 텍스트 부분만 가져옴\n",
        "print(\"\\n텍스트 데이터:\", docs[:5])\n",
        "print(\"\\n문장 개수: \",len(docs)) # 총 15만개의 문장으로 이루어진 데이터셋임을 알 수 있다."
      ],
      "execution_count": 20,
      "outputs": [
        {
          "output_type": "stream",
          "text": [
            "데이터셋:  [['9976970', '아 더빙.. 진짜 짜증나네요 목소리', '0'], ['3819312', '흠...포스터보고 초딩영화줄....오버연기조차 가볍지 않구나', '1'], ['10265843', '너무재밓었다그래서보는것을추천한다', '0'], ['9045019', '교도소 이야기구먼 ..솔직히 재미는 없다..평점 조정', '0'], ['6483659', '사이몬페그의 익살스런 연기가 돋보였던 영화!스파이더맨에서 늙어보이기만 했던 커스틴 던스트가 너무나도 이뻐보였다', '1'], ['5403919', '막 걸음마 뗀 3세부터 초등학교 1학년생인 8살용영화.ㅋㅋㅋ...별반개도 아까움.', '0'], ['7797314', '원작의 긴장감을 제대로 살려내지못했다.', '0'], ['9443947', '별 반개도 아깝다 욕나온다 이응경 길용우 연기생활이몇년인지..정말 발로해도 그것보단 낫겟다 납치.감금만반복반복..이드라마는 가족도없다 연기못하는사람만모엿네', '0'], ['7156791', '액션이 없는데도 재미 있는 몇안되는 영화', '1'], ['5912145', '왜케 평점이 낮은건데? 꽤 볼만한데.. 헐리우드식 화려함에만 너무 길들여져 있나?', '1']]\n",
            "\n",
            "텍스트 데이터: ['아 더빙.. 진짜 짜증나네요 목소리', '흠...포스터보고 초딩영화줄....오버연기조차 가볍지 않구나', '너무재밓었다그래서보는것을추천한다', '교도소 이야기구먼 ..솔직히 재미는 없다..평점 조정', '사이몬페그의 익살스런 연기가 돋보였던 영화!스파이더맨에서 늙어보이기만 했던 커스틴 던스트가 너무나도 이뻐보였다']\n",
            "\n",
            "문장 개수:  150000\n"
          ],
          "name": "stdout"
        }
      ]
    },
    {
      "cell_type": "code",
      "metadata": {
        "id": "XAd9C--T9_AP",
        "colab": {
          "base_uri": "https://localhost:8080/"
        },
        "outputId": "7d62036d-363a-4dbc-8298-05d64b2c498b"
      },
      "source": [
        "# 토큰화한 텍스트 데이터의 bigram을 모두 리스트에 추가한다.\n",
        "sentences = []\n",
        "for d in tqdm(docs): # https://github.com/tqdm/tqdm \n",
        "  tokens = tokenize(d)\n",
        "  bigram = ngrams(tokens, 2, pad_left=True, pad_right=True, left_pad_symbol=\"<s>\", right_pad_symbol=\"</s>\")\n",
        "  sentences += [t for t in bigram]"
      ],
      "execution_count": 21,
      "outputs": [
        {
          "output_type": "stream",
          "text": [
            "100%|██████████| 150000/150000 [07:05<00:00, 352.22it/s]\n"
          ],
          "name": "stderr"
        }
      ]
    },
    {
      "cell_type": "code",
      "metadata": {
        "id": "U_Pf91qqj9PH",
        "colab": {
          "base_uri": "https://localhost:8080/"
        },
        "outputId": "945b973a-37d3-4d32-c990-55a0705b71b7"
      },
      "source": [
        "print(sentences[:10])"
      ],
      "execution_count": 22,
      "outputs": [
        {
          "output_type": "stream",
          "text": [
            "[('<s>', '아/Exclamation'), ('아/Exclamation', '더빙/Noun'), ('더빙/Noun', '../Punctuation'), ('../Punctuation', '진짜/Noun'), ('진짜/Noun', '짜증나네요/Adjective'), ('짜증나네요/Adjective', '목소리/Noun'), ('목소리/Noun', '</s>'), ('<s>', '흠/Noun'), ('흠/Noun', '.../Punctuation'), ('.../Punctuation', '포스터/Noun')]\n"
          ],
          "name": "stdout"
        }
      ]
    },
    {
      "cell_type": "code",
      "metadata": {
        "id": "gL31DVi1ld25",
        "colab": {
          "base_uri": "https://localhost:8080/"
        },
        "outputId": "793ec1d1-27f7-4354-f055-c5767b508d5f"
      },
      "source": [
        "cfd = ConditionalFreqDist(sentences)\n",
        "print(cfd[\"<s>\"].most_common(2100))"
      ],
      "execution_count": 28,
      "outputs": [
        {
          "output_type": "stream",
          "text": [
            "[('정말/Noun', 2718), ('이/Noun', 2371), ('진짜/Noun', 2232), ('이/Determiner', 2115), ('영화/Noun', 2069), ('아/Exclamation', 1693), ('너무/Adverb', 1627), ('평점/Noun', 1583), ('내/Noun', 1542), ('최고/Noun', 1127), ('1/Number', 1100), ('그냥/Noun', 1068), ('이런/Adjective', 916), ('재미/Noun', 777), ('완전/Noun', 773), ('이건/Noun', 768), ('난/Noun', 748), ('나/Noun', 732), ('역시/Noun', 708), ('왜/Noun', 670), ('마지막/Noun', 654), ('와/Verb', 642), ('스토리/Noun', 639), ('감독/Noun', 630), ('뭐/Noun', 602), ('말/Noun', 592), ('솔직히/Adjective', 591), ('쓰레기/Noun', 585), ('감동/Noun', 583), ('이영화/Noun', 552), ('지금/Noun', 517), ('배우/Noun', 512), ('내용/Noun', 504), ('\"\"\"/Punctuation', 490), ('처음/Noun', 484), ('별로/Noun', 439), ('시간/Noun', 436), ('원작/Noun', 415), ('내/Determiner', 412), ('최악/Noun', 397), ('이런/Modifier', 394), ('좋은/Adjective', 369), ('10/Number', 359), ('굿/Noun', 358), ('별/Noun', 351), ('한국/Noun', 346), ('다시/Noun', 346), ('아이/Noun', 343), ('저/Noun', 330), ('오랜/Modifier', 324), ('어릴/Verb', 316), ('액션/Noun', 313), ('사랑/Noun', 306), ('별/Modifier', 303), ('생각/Noun', 302), ('소재/Noun', 297), ('그/Noun', 291), ('참/Verb', 290), ('제목/Noun', 290), ('이렇게/Adverb', 282), ('볼/Noun', 281), ('다/Adverb', 268), ('우리/Noun', 268), ('주인공/Noun', 268), ('일본/Noun', 267), ('개/Noun', 267), ('요즘/Noun', 266), ('3/Number', 262), ('돈/Noun', 262), ('연기/Noun', 258), ('개인/Noun', 256), ('여자/Noun', 252), ('어렸을/Verb', 246), ('가슴/Noun', 244), ('초반/Noun', 242), ('보는/Verb', 240), ('결말/Noun', 239), ('명작/Noun', 238), ('음/Noun', 235), ('진심/Noun', 229), ('뭔가/Noun', 228), ('0/Number', 226), ('ㅋㅋ/KoreanParticle', 226), (\"'/Punctuation\", 221), ('도대체/Noun', 221), ('ㅋㅋㅋ/KoreanParticle', 219), ('재밌다/Adjective', 219), ('재밌게/Adjective', 218), ('좀/Noun', 216), ('아주/Noun', 215), ('드라마/Noun', 215), ('기대/Noun', 214), ('재밌어요/Adjective', 207), ('제/Noun', 204), ('나도/Verb', 202), ('나름/Noun', 201), ('음악/Noun', 201), ('2/Number', 200), ('재미없다/Adjective', 199), ('인간/Noun', 199), ('아무리/Adverb', 198), ('포스터/Noun', 197), ('아니/Adjective', 195), ('대박/Noun', 192), ('반전/Noun', 191), ('넘/Verb', 187), ('오늘/Noun', 187), ('미국/Noun', 187), ('걍/Adverb', 186), ('기/Modifier', 186), ('애/Noun', 184), ('간만/Noun', 184), ('옛날/Noun', 183), ('전/Noun', 180), ('우리나라/Noun', 179), ('하/Exclamation', 177), ('마음/Noun', 177), ('무슨/Noun', 176), ('남자/Noun', 173), ('꼭/Noun', 172), ('짱/Noun', 171), ('예전/Noun', 170), ('킬링타임/Noun', 169), ('사람/Noun', 167), ('보는내내/Verb', 165), ('차라리/Noun', 162), ('인생/Noun', 160), ('잼/Noun', 159), ('현실/Noun', 158), ('일/Modifier', 158), ('최고다/Noun', 158), ('보다가/Verb', 157), ('뻔한/Adjective', 157), ('이딴/Modifier', 156), ('당시/Noun', 154), ('보고/Noun', 152), ('에/Josa', 152), ('여/Modifier', 151), ('이제/Noun', 149), ('성룡/Noun', 148), ('장난/Noun', 147), ('알바/Noun', 146), ('아름다운/Adjective', 146), ('가족/Noun', 146), ('OOO/Alpha', 145), ('저/Determiner', 145), ('세상/Noun', 143), ('그/Determiner', 142), ('중간/Noun', 141), ('good/Alpha', 140), ('실화/Noun', 140), ('헐/Verb', 139), ('끝/Noun', 139), ('영/Modifier', 137), ('개봉/Noun', 135), ('한/Verb', 135), ('전편/Noun', 135), ('영화관/Noun', 133), ('영상/Noun', 132), ('잘/Verb', 132), ('잔잔한/Adjective', 131), ('재미있게/Adjective', 130), ('잘/VerbPrefix', 130), ('극장/Noun', 130), ('오/Noun', 130), ('그저/Adverb', 129), ('연출/Noun', 129), ('네이버/Noun', 129), ('지루하고/Adjective', 129), ('코미디/Noun', 128), ('여기/Noun', 125), ('일단/Noun', 123), ('뭔/Modifier', 123), ('허/Verb', 123), ('OO/Alpha', 123), ('tv/Alpha', 121), ('가장/Noun', 121), ('굳/Adjective', 120), ('\"\"\"\"\"\"\"/Punctuation', 120), ('제발/Noun', 119), ('한/Determiner', 118), ('존나/Noun', 118), ('.../Punctuation', 118), ('노잼/Noun', 118), ('긴장감/Noun', 118), ('모든/Noun', 117), ('한마디/Noun', 117), ('재밌는데/Adjective', 116), ('어떻게/Adjective', 116), ('또/Noun', 116), ('공포/Noun', 115), ('한국영/Noun', 114), ('너무나/Adverb', 114), ('전형/Noun', 114), ('10년/Number', 112), ('딱/Adverb', 112), ('ㅋㅋㅋㅋ/KoreanParticle', 112), ('결국/Adverb', 111), ('여운/Noun', 110), ('밑/Noun', 110), ('역대/Noun', 110), ('B/Alpha', 109), ('두/Determiner', 108), ('스릴러/Noun', 108), ('와우/Noun', 108), ('누가/Noun', 107), ('이해/Noun', 107), ('한번/Noun', 106), ('시즌/Noun', 106), ('그래도/Adverb', 106), ('아직도/Adverb', 104), ('추억/Noun', 104), ('노래/Noun', 104), ('흠/Noun', 103), ('어설픈/Adjective', 103), ('작가/Noun', 103), ('초딩/Noun', 103), ('좋다/Adjective', 103), ('안/VerbPrefix', 102), ('전작/Noun', 102), ('재미있어요/Adjective', 101), ('엄청/Adverb', 101), ('지루함/Noun', 101), ('공포영화/Noun', 101), ('보면서/Verb', 100), ('전쟁/Noun', 100), ('막장/Noun', 99), ('몇번/Noun', 99), ('엄마/Noun', 98), ('캐스팅/Noun', 98), ('친구/Noun', 98), ('전혀/Noun', 98), ('시리즈/Noun', 97), ('좋아요/Adjective', 97), ('ㅋ/KoreanParticle', 97), ('더/Noun', 97), ('최근/Noun', 96), ('티비/Noun', 96), ('괜찮은/Adjective', 95), ('머/Noun', 95), ('대체/Noun', 95), ('꽤/Noun', 95), ('다른/Noun', 95), ('이야기/Noun', 94), ('더빙/Noun', 94), ('재미없음/Adjective', 93), ('어제/Noun', 93), ('진정한/Adjective', 93), ('TV/Alpha', 92), ('4/Number', 91), ('눈/Noun', 91), ('야/Exclamation', 90), ('평론가/Noun', 90), ('우와/Exclamation', 90), ('시대/Noun', 90), ('그냥/Modifier', 90), ('많은/Adjective', 89), ('억지/Noun', 89), ('뭘/Noun', 89), ('코믹/Noun', 88), ('책/Noun', 88), ('재밌음/Adjective', 88), ('엔딩/Noun', 87), ('소설/Noun', 87), ('삶/Noun', 86), ('미친/Adjective', 86), ('언제/Noun', 86), ('./Punctuation', 85), ('지루하다/Adjective', 85), ('[/Punctuation', 85), ('두/Noun', 85), ('눈물/Noun', 85), ('캐릭터/Noun', 85), ('매우/Noun', 84), ('우연히/Adverb', 84), ('7/Number', 84), ('조금/Noun', 83), ('지루한/Adjective', 83), ('80년/Number', 83), ('글쎄/Noun', 82), ('예고편/Noun', 82), ('여주/Noun', 82), ('아직/Adverb', 81), ('시/Modifier', 81), ('프랑스/Noun', 81), ('보다/Verb', 81), ('원래/Noun', 80), ('누구/Noun', 79), ('학교/Noun', 79), ('여배우/Noun', 79), ('관객/Noun', 79), ('90년/Number', 78), ('작품/Noun', 78), ('앞/Noun', 78), ('방금/Noun', 78), ('재밋/Noun', 77), ('..../Punctuation', 77), ('점수/Noun', 77), ('어린/Verb', 77), ('이런게/Adjective', 76), ('보지/Noun', 76), ('약간/Noun', 76), ('스릴/Noun', 76), ('초/Noun', 75), ('무슨/Modifier', 75), ('절대/Noun', 74), ('케이블/Noun', 74), ('사실/Noun', 74), ('대한민국/Noun', 74), ('연기력/Noun', 74), ('시나리오/Noun', 74), ('많이/Adverb', 74), ('욕/Noun', 74), ('역사/Noun', 74), ('전체/Noun', 74), ('예술/Noun', 74), ('재밌네요/Adjective', 73), ('시사회/Noun', 73), ('꿀잼/Noun', 72), ('공감/Noun', 72), ('후반/Noun', 72), ('상당히/Adjective', 71), ('기억/Noun', 71), ('멋진/Adjective', 71), ('올해/Noun', 71), ('더럽게/Adjective', 70), ('휴/Exclamation', 70), ('만화/Noun', 70), ('줄거리/Noun', 70), ('불륜/Noun', 69), ('몰입도/Noun', 69), ('개연/Noun', 69), ('극/Modifier', 68), ('어른/Noun', 68), ('제/Modifier', 68), ('장르/Noun', 68), ('그래/Adjective', 68), ('매력/Noun', 68), ('아무/Modifier', 68), ('시작/Noun', 67), ('재미있다/Adjective', 67), ('화려한/Adjective', 66), ('비디오/Noun', 66), ('좀비/Noun', 66), ('중국/Noun', 66), ('이연걸/Noun', 66), ('ㅎㅎ/KoreanParticle', 65), ('내생/Noun', 65), ('20/Number', 65), ('원/Modifier', 65), ('후/Noun', 65), ('존/Noun', 65), ('당신/Noun', 64), ('아무/Noun', 64), ('ㅡㅡ/KoreanParticle', 64), ('9/Number', 63), ('반/Modifier', 63), ('굉장히/Adjective', 63), ('애니/Noun', 63), ('재미없어/Adjective', 63), ('별루/Noun', 62), ('아들/Noun', 62), ('믿고/Verb', 62), ('독립영화/Noun', 62), ('오/Modifier', 62), ('유치/Noun', 61), ('잔잔하고/Adjective', 61), ('보면/Verb', 61), ('재밌고/Adjective', 60), ('8/Number', 60), ('몇/Modifier', 60), ('현재/Noun', 60), ('독특한/Adjective', 60), ('몰입/Noun', 60), ('배경/Noun', 60), ('삼류/Noun', 60), ('남/Noun', 59), ('나이/Noun', 59), ('그래서/Adverb', 59), ('무엇/Noun', 59), ('군대/Noun', 59), ('ㅠㅠ/KoreanParticle', 58), ('자신/Noun', 58), ('초등학교/Noun', 58), ('5/Number', 58), ('이번/Noun', 58), ('주제/Noun', 57), ('분위기/Noun', 57), ('으리/Noun', 57), ('어디서/Adverb', 57), ('꿈/Noun', 57), ('지/Modifier', 57), ('어린시절/Noun', 56), ('견자단/Noun', 56), ('CG/Alpha', 56), ('전/Modifier', 56), ('첨/Noun', 56), ('졸라/Noun', 56), ('실망/Noun', 56), ('자기/Noun', 56), ('20년/Number', 55), ('그렇게/Adverb', 55), ('../Punctuation', 55), ('갈수록/Noun', 55), ('유치한/Adjective', 55), ('어휴/Exclamation', 54), ('전설/Noun', 54), ('2시간/Number', 54), ('6/Number', 54), ('가볍게/Adjective', 54), ('아오/Exclamation', 53), ('재미있고/Adjective', 53), ('재미없어요/Adjective', 53), ('하나/Noun', 53), ('다큐/Noun', 53), ('핵/Noun', 53), ('중반/Noun', 53), ('그나마/Adverb', 53), ('어린이/Noun', 52), ('소/Modifier', 52), ('너무나도/Adverb', 52), ('어떤/Adjective', 52), ('기분/Noun', 52), ('엄청난/Adjective', 52), ('짱/VerbPrefix', 52), ('엉/Exclamation', 52), ('아버지/Noun', 52), ('진부한/Adjective', 52), ('따뜻한/Adjective', 52), ('몇/Noun', 51), ('그닥/Noun', 51), ('굿굿/Noun', 51), ('과거/Noun', 51), ('제작비/Noun', 51), ('너/Modifier', 50), ('새벽/Noun', 50), ('그럭저럭/Adverb', 50), ('여러/Modifier', 50), ('전개/Noun', 50), ('아/Noun', 50), ('하아/Exclamation', 50), ('주연/Noun', 50), ('어디/Noun', 49), ('출연/Noun', 49), ('짐/Noun', 49), ('마치/Noun', 49), ('봐도/Verb', 48), ('살다/Verb', 48), ('추천/Noun', 48), ('유치하고/Adjective', 47), ('신선한/Adjective', 47), ('주성치/Noun', 47), ('새로운/Adjective', 47), ('괜히/Adverb', 47), ('발연기/Noun', 47), ('계속/Noun', 47), ('머리/Noun', 47), ('보기/Noun', 47), ('왠만하면/Adjective', 47), ('대사/Noun', 47), ('모두/Noun', 47), ('볼때/Noun', 46), ('하하/Noun', 46), ('왠지/Adverb', 46), ('초등학생/Noun', 46), ('보고나서/Verb', 46), ('지루/Noun', 46), ('재/Noun', 46), ('졸작/Noun', 45), ('근데/Adverb', 45), ('종교/Noun', 45), ('도저히/Noun', 45), ('점점/Noun', 45), ('지루해/Adjective', 45), ('첫/Modifier', 45), ('으/Adverb', 44), ('화면/Noun', 44), ('은근/Noun', 44), ('웃기/Noun', 44), ('유쾌한/Adjective', 44), ('어이/Noun', 44), ('그다지/Noun', 44), ('재밋어/Noun', 44), ('짱/Modifier', 44), ('너/Noun', 44), ('댓글/Noun', 44), ('주/Modifier', 43), ('마이클/Noun', 43), ('모든/Modifier', 43), ('혹시/Noun', 43), ('네/Noun', 43), ('이야/Josa', 43), ('의미/Noun', 43), ('유쾌하고/Adjective', 43), ('디즈니/Noun', 43), ('수준/Noun', 43), ('충격/Noun', 43), ('실제/Noun', 43), ('웃음/Noun', 43), ('훌륭한/Adjective', 43), ('그래픽/Noun', 43), ('기대하고/Adjective', 43), ('귀여운/Adjective', 42), ('애니메이션/Noun', 42), ('의리/Noun', 42), ('재미없고/Adjective', 42), ('정신/Noun', 42), ('중학교/Noun', 42), ('재밌었어요/Adjective', 42), ('잼있어요/Verb', 42), ('SF/Alpha', 42), ('재밋다/Noun', 42), ('재밌어/Adjective', 42), ('단순한/Adjective', 41), ('이런거/Adjective', 41), ('완벽한/Adjective', 41), ('Good/Alpha', 41), ('재미있음/Adjective', 41), ('재미있는/Adjective', 40), ('키/Noun', 40), ('의도/Noun', 40), ('손발/Noun', 40), ('중/Noun', 40), ('정말로/Adverb', 40), ('그림/Noun', 40), ('상영/Noun', 40), ('게임/Noun', 40), ('</Punctuation', 40), ('근래/Noun', 40), ('비/Noun', 40), ('한국판/Noun', 40), ('오래전/Adverb', 40), ('bad/Alpha', 40), ('재밌네/Adjective', 39), ('로버트/Noun', 39), ('캬/Noun', 39), ('ㅋㅋㅋㅋㅋ/KoreanParticle', 39), ('큰/Verb', 39), ('제대로/Noun', 39), ('오랫/Modifier', 39), ('니/Noun', 39), ('대/Modifier', 39), ('수작/Noun', 39), ('홍콩/Noun', 39), ('항상/Noun', 39), ('여태/Noun', 39), ('본지/Verb', 38), ('세계/Noun', 38), ('대단한/Adjective', 38), ('옛/Adverb', 38), ('확실히/Adjective', 38), ('기자/Noun', 38), ('ost/Alpha', 38), ('재밌습니다/Adjective', 38), ('다소/Noun', 38), ('똥/Noun', 38), ('재밌는/Adjective', 38), ('김기덕/Noun', 38), ('영국/Noun', 38), ('70년/Number', 38), ('크리스마스/Noun', 37), ('시청률/Noun', 37), ('같은/Adjective', 37), ('평/Noun', 37), ('북한/Noun', 37), ('갑자기/Noun', 37), ('평이/Noun', 37), ('전문가/Noun', 37), ('진정/Noun', 36), ('설정/Noun', 36), ('액션영화/Noun', 36), ('스타/Noun', 36), ('집/Noun', 36), ('제일/Noun', 36), ('ㅎ/KoreanParticle', 36), ('사회/Noun', 36), ('뒤/Noun', 36), ('잘만/Noun', 36), ('?/Punctuation', 36), ('우/Adverb', 36), ('다른/Modifier', 36), ('연/Modifier', 36), ('판타지/Noun', 36), ('헐리웃/Noun', 36), ('청춘/Noun', 35), ('007/Number', 35), ('조/Modifier', 35), ('안/Noun', 35), ('무조건/Noun', 35), ('흥미진진/Noun', 35), ('설마/Noun', 35), ('복수/Noun', 35), ('다운/Noun', 35), ('조/Noun', 35), ('자극/Noun', 34), ('발/Noun', 34), ('고/Modifier', 34), ('속편/Noun', 34), ('남주/Verb', 34), ('로맨스/Noun', 34), ('ㅇ/KoreanParticle', 34), ('거의/Noun', 34), ('시도/Noun', 34), ('여러가지/Noun', 34), ('다세포/Noun', 34), ('아침/Noun', 34), ('제니퍼/Noun', 34), ('흥미로운/Adjective', 34), ('가끔/Noun', 34), ('굳이/Noun', 34), ('카메라/Noun', 34), ('마이너스/Noun', 33), ('현/Modifier', 33), ('ㅇㅇ/KoreanParticle', 33), ('쵝오/Noun', 33), ('그녀/Noun', 33), ('한편/Noun', 33), ('알/Noun', 33), ('4.44/Number', 33), ('조카/Noun', 33), ('갠/Noun', 33), ('못/VerbPrefix', 33), ('코/Noun', 33), ('고등학교/Noun', 33), ('ㅅㅂ/KoreanParticle', 33), ('브루스/Noun', 33), ('청소년/Noun', 33), ('할/Verb', 32), ('무협/Noun', 32), ('사랑스러운/Adjective', 32), ('병맛/Noun', 32), ('컴퓨터/Noun', 32), ('평범한/Adjective', 32), ('심형래/Noun', 32), ('어느/Adverb', 32), ('희/Adjective', 32), ('과연/Noun', 32), ('젠장/Noun', 32), ('홍상수/Noun', 32), ('참나/Noun', 32), ('대작/Noun', 32), ('재밌던데/Adjective', 32), ('어이없는/Adjective', 32), ('제이슨/Noun', 32), ('태어나서/Verb', 31), ('빨리/Adverb', 31), ('전반/Noun', 31), ('등장인물/Noun', 31), ('겁나/Verb', 31), ('완성/Noun', 31), ('의외로/Adverb', 31), ('억지로/Noun', 31), ('한국인/Noun', 31), ('헐리우드/Noun', 31), ('바보/Noun', 31), ('막판/Noun', 31), ('극장판/Noun', 31), ('동화/Noun', 31), ('뮤지컬/Noun', 30), ('드럽게/Adjective', 30), ('슬프다/Adjective', 30), ('혼자/Noun', 30), ('슬픈/Adjective', 30), ('OST/Alpha', 30), ('이런건/Adjective', 30), ('짱짱/Noun', 30), ('원주율/Noun', 30), ('톰/Noun', 30), ('2014년/Number', 30), ('오유/Noun', 30), ('총/Modifier', 30), ('누군가/Noun', 30), ('귀신/Noun', 30), ('무언가/Noun', 30), ('소소한/Adjective', 30), ('재밌었는데/Adjective', 30), ('그때/Noun', 30), ('참신한/Adjective', 30), ('여러분/Noun', 30), ('팀/Noun', 30), ('충분히/Adjective', 30), ('죽음/Noun', 30), ('나를/Verb', 30), ('서로/Noun', 30), ('12/Number', 30), ('스티븐/Noun', 30), ('보고나면/Verb', 30), ('네/Determiner', 29), ('자막/Noun', 29), ('-/Punctuation', 29), ('레알/Noun', 29), ('쓰래/Noun', 29), ('볼수록/Verb', 29), ('별하나/Noun', 29), ('명불허전/Noun', 29), ('만점/Noun', 29), ('억/Modifier', 29), ('어떤/Modifier', 29), ('러닝/Noun', 29), ('감히/Noun', 29), ('교훈/Noun', 29), ('클레멘타인/Noun', 29), ('리메이크/Noun', 29), ('고양이/Noun', 29), ('흥행/Noun', 29), ('연애/Noun', 29), ('이래서/Josa', 29), ('국내/Noun', 29), ('ㅎㅎㅎ/KoreanParticle', 29), ('정치/Noun', 29), ('강추/Noun', 29), ('상상력/Noun', 29), ('인상/Noun', 28), ('언/Modifier', 28), ('탄탄한/Adjective', 28), ('좋아/Adjective', 28), ('글쎄요/Noun', 28), ('잠/Noun', 28), ('흔한/Adjective', 28), ('보지마/Verb', 28), ('여성/Noun', 28), ('할말/Verb', 28), ('아이고/Exclamation', 28), ('결혼/Noun', 28), ('야구/Noun', 28), ('걸작/Noun', 28), ('말로/Noun', 28), ('박중훈/Noun', 28), ('코난/Noun', 28), ('첫/Noun', 28), ('천재/Noun', 28), ('섹스/Noun', 28), ('외국/Noun', 28), ('다음/Noun', 28), ('쩐다/Noun', 28), ('멜로/Noun', 28), ('이름/Noun', 28), ('미안하다/Adjective', 28), ('무섭지도/Adjective', 27), ('총/Noun', 27), ('I/Alpha', 27), ('주윤발/Noun', 27), ('할말이/Verb', 27), ('위대한/Adjective', 27), ('재미있는데/Adjective', 27), ('쩝/Adverb', 27), ('해리포터/Noun', 27), ('좋습니다/Adjective', 27), ('단지/Noun', 27), ('이소룡/Noun', 27), ('조폭/Noun', 27), ('장진/Noun', 27), ('우왕/Noun', 27), ('피/Noun', 27), ('아름답고/Adjective', 27), ('열/Noun', 27), ('결론/Noun', 27), ('재밋음/Noun', 27), ('동/Modifier', 27), ('로맨틱/Noun', 27), ('힐링/Noun', 27), ('허허/Adverb', 26), ('구성/Noun', 26), ('딱히/Adjective', 26), ('잔잔하게/Adjective', 26), ('막장드라마/Noun', 26), ('본/Modifier', 26), ('남녀/Noun', 26), ('감성/Noun', 26), ('각본/Noun', 26), ('리뷰/Noun', 26), ('딸/Noun', 26), ('성인/Noun', 26), ('좋은데/Adjective', 26), ('왕가위/Noun', 26), ('100/Number', 26), ('본/Verb', 26), ('얼마나/Noun', 26), ('동물/Noun', 26), ('헉/Adverb', 26), ('^^/Punctuation', 26), ('에이/Noun', 26), ('솔/Noun', 26), ('잭/Noun', 26), ('지루하지/Adjective', 26), ('성우/Noun', 26), ('재미있었어요/Adjective', 26), ('홍콩영화/Noun', 26), ('다큐멘터리/Noun', 26), ('조니뎁/Noun', 26), ('씨/Noun', 26), ('짜증/Noun', 26), ('잔잔하지만/Adjective', 26), ('구/Modifier', 26), ('자연/Noun', 26), ('기존/Noun', 25), ('진/Noun', 25), ('답/Noun', 25), ('왠/Modifier', 25), ('자꾸/Noun', 25), ('무/Noun', 25), ('이미/Adverb', 25), ('스케일/Noun', 25), ('울/Modifier', 25), ('재미있네요/Adjective', 25), ('21/Number', 25), ('어머니/Noun', 25), ('영어/Noun', 25), ('박보영/Noun', 25), ('모/Noun', 25), ('빵점/Noun', 25), ('표절/Noun', 25), ('아빠/Noun', 25), ('맥/Noun', 25), ('베스트/Noun', 25), ('반개/Noun', 25), ('ㅡ/KoreanParticle', 25), ('보통/Noun', 25), ('요/Modifier', 25), ('아만다/Noun', 25), ('진실/Noun', 25), ('만약/Noun', 25), ('아아/Noun', 25), ('단순히/Adjective', 25), ('지극히/Adverb', 25), ('좋네요/Adjective', 25), ('하지원/Noun', 25), ('예상/Noun', 25), ('고전/Noun', 25), ('귀엽고/Adjective', 25), ('어느/Modifier', 25), ('장면/Noun', 24), ('평생/Noun', 24), ('좋아하는/Adjective', 24), ('아역/Noun', 24), ('(/Punctuation', 24), ('노답/Noun', 24), ('감정/Noun', 24), ('몇몇/Noun', 24), ('희망/Noun', 24), ('동성애/Noun', 24), ('만화책/Noun', 24), ('알파/Noun', 24), ('안보/Noun', 24), ('얼굴/Noun', 24), ('철학/Noun', 24), ('식상한/Adjective', 24), ('관람/Noun', 24), ('오프닝/Noun', 24), ('뛰어난/Adjective', 24), ('연예인/Noun', 24), ('A/Alpha', 24), ('느와르/Noun', 24), ('벌써/Noun', 24), ('개막/Noun', 24), ('숨겨진/Verb', 24), ('에로/Josa', 24), ('왕/Noun', 23), ('EBS/Alpha', 23), ('싸구려/Noun', 23), ('콜린/Noun', 23), ('최강/Noun', 23), ('날/Noun', 23), ('평소/Noun', 23), ('환상/Noun', 23), ('노출/Noun', 23), ('되게/Adverb', 23), ('단순/Noun', 23), ('아래/Noun', 23), ('드디어/Adverb', 23), ('ㅜㅜ/KoreanParticle', 23), ('분명/Noun', 23), ('흥미/Noun', 23), ('주말/Noun', 23), ('참으로/Noun', 23), ('제작/Noun', 23), ('게이/Noun', 23), ('도데/Noun', 23), ('명/Noun', 23), ('구혜선/Noun', 23), ('빈/Noun', 23), ('매/Modifier', 23), ('재밋는데/Noun', 23), ('2.22/Number', 23), ('이상한/Adjective', 23), ('아름답다/Adjective', 23), ('아놀드/Noun', 23), ('살짝/Noun', 23), ('30/Number', 23), ('고/Noun', 23), ('잼있다/Verb', 23), ('신선하고/Adjective', 23), ('소름/Noun', 23), ('범인/Noun', 23), ('하정우/Noun', 23), ('소장/Noun', 23), ('콩/Noun', 22), ('살인/Noun', 22), ('적당히/Adjective', 22), ('비록/Noun', 22), ('살면서/Verb', 22), ('세월/Noun', 22), ('지구/Noun', 22), ('저기/Noun', 22), ('본격/Noun', 22), ('쓰/Verb', 22), ('재미있습니다/Adjective', 22), ('예/Modifier', 22), ('몸/Noun', 22), ('올/Verb', 22), ('가면/Noun', 22), ('박평/Noun', 22), ('전쟁영화/Noun', 22), ('질질/Noun', 22), ('이보/Noun', 22), ('세/Modifier', 22), ('중학생/Noun', 22), ('유덕화/Noun', 22), ('지루해서/Adjective', 22), ('...../Punctuation', 22), ('멋지다/Adjective', 22), ('달달/Noun', 22), ('에드워드/Noun', 22), ('사/Modifier', 22), ('ㅠ/KoreanParticle', 22), ('우주/Noun', 22), ('권상우/Noun', 22), ('터미네이터/Noun', 22), ('이유/Noun', 22), ('러시아/Noun', 22), ('Very/Alpha', 22), ('잼있음/Verb', 22), ('하루/Noun', 22), ('거장/Noun', 22), ('잔인한/Adjective', 22), ('폴/Noun', 22), ('젊은/Adjective', 22), ('한효주/Noun', 22), ('웃기지도/Verb', 22), ('올레/Noun', 21), ('스타워즈/Noun', 21), ('어/Eomi', 21), ('묘/Noun', 21), ('cg/Alpha', 21), ('어우/Noun', 21), ('울/Noun', 21), ('그동안/Noun', 21), ('볼거리/Noun', 21), ('뒤늦게/Adjective', 21), ('집중/Noun', 21), ('1시간/Number', 21), ('나루토/Noun', 21), ('첨부/Noun', 21), ('강/Noun', 21), ('재밌었음/Adjective', 21), ('30년/Number', 21), ('11/Number', 21), ('당/Modifier', 21), ('크리스찬/Noun', 21), ('그야말로/Adverb', 21), ('밤/Noun', 21), ('연기자/Noun', 21), ('지나치게/Verb', 21), ('로그인/Noun', 21), ('빨갱이/Noun', 21), ('많은걸/Adjective', 21), ('순수한/Adjective', 21), ('재밌었다/Adjective', 21), ('리얼/Noun', 21), ('여러/Noun', 21), ('경찰/Noun', 21), ('정우성/Noun', 21), ('정말/Exclamation', 21), ('2004년/Number', 21), ('재미없는/Adjective', 21), ('약/Noun', 21), ('색감/Noun', 21), ('긴/Verb', 21), ('서/Modifier', 21), ('니콜/Noun', 21), ('오래/Adverb', 21), ('한석규/Noun', 20), ('개콘/Noun', 20), ('잊을/Verb', 20), ('재밌/Adjective', 20), ('굿굿굿/Noun', 20), ('오오/Exclamation', 20), ('훈훈한/Adjective', 20), ('촬영/Noun', 20), ('2000년/Number', 20), ('이정/Noun', 20), ('대단하다/Adjective', 20), ('심리/Noun', 20), ('우선/Noun', 20), ('사극/Noun', 20), ('중딩/Noun', 20), ('ㅉㅉ/KoreanParticle', 20), ('설경구/Noun', 20), ('ㅈㄴ/KoreanParticle', 20), ('리암/Noun', 20), ('맨/Modifier', 20), ('열/Modifier', 20), ('슬프고/Adjective', 20), ('꼬마/Noun', 20), ('양심/Noun', 20), ('참고/Noun', 20), ('재난영화/Noun', 20), ('진짜진짜/Noun', 20), ('무서운/Adjective', 20), ('오락/Noun', 20), ('배트맨/Noun', 20), ('마약/Noun', 20), ('2003년/Number', 20), ('괜찮은데/Adjective', 20), ('인터넷/Noun', 20), ('본방/Noun', 20), ('아오이/Noun', 20), ('작위/Noun', 20), ('장애인/Noun', 20), ('성/Modifier', 20), ('장국영/Noun', 20), ('겉/Noun', 20), ('오우/Noun', 20), ('로빈/Noun', 20), ('장/Noun', 20), ('남자라면/Noun', 20), ('무지/Noun', 20), ('과장/Noun', 20), ('원피스/Noun', 20), ('영화로/Noun', 20), ('2년/Number', 19), ('송강호/Noun', 19), ('감사합니다/Verb', 19), ('시종일관/Noun', 19), ('엄청나게/Adjective', 19), ('짝퉁/Noun', 19), ('서극/Noun', 19), ('물체/Noun', 19), ('제시카/Noun', 19), ('아바타/Noun', 19), ('어려운/Adjective', 19), ('다른건/Adjective', 19), ('후속작/Noun', 19), ('시/Noun', 19), ('인물/Noun', 19), ('허세/Noun', 19), ('토/Noun', 19), ('쫌/Noun', 19), ('케빈/Noun', 19), ('어찌/Noun', 19), ('심하게/Adjective', 19), ('DVD/Alpha', 19), ('왕조현/Noun', 19), ('채널/Noun', 19), ('ㅋㅋㅋㅋㅋㅋ/KoreanParticle', 19), ('타란티노/Noun', 19), ('먹/Verb', 19), ('악/Noun', 19), ('멋/Noun', 19), ('아마/Noun', 19), ('첨/Adverb', 19), ('괴물/Noun', 19), ('택시/Noun', 19), ('범죄/Noun', 19), ('레전드/Noun', 19), ('조선/Noun', 19), ('이병헌/Noun', 19), ('여자친구/Noun', 19), ('공짜/Noun', 19), ('자/Noun', 19), ('킬링/Noun', 19), ('30분/Number', 19), ('아동/Noun', 19), ('강동원/Noun', 19), ('도라에몽/Noun', 19), ('귀/Modifier', 19), ('아우/Noun', 19), ('부모님/Noun', 19), ('유일하게/Adjective', 19), ('동생/Noun', 19), ('인도/Noun', 19), ('very/Alpha', 19), ('한심한/Adjective', 19), ('15년/Number', 19), ('막/Noun', 18), ('재밋네/Noun', 18), ('철/Noun', 18), ('하나님/Noun', 18), ('망작/Noun', 18), ('지/Verb', 18), ('폭력/Noun', 18), ('성유리/Noun', 18), ('최/Noun', 18), ('b/Alpha', 18), ('개꿀잼/Noun', 18), ('어색한/Adjective', 18), ('의외/Noun', 18), ('부산/Noun', 18), ('짜증나는/Adjective', 18), ('레옹/Noun', 18), ('세/Noun', 18), ('네티즌/Noun', 18), ('김치/Noun', 18), ('악당/Noun', 18), ('상상/Noun', 18), ('이은주/Noun', 18), ('개성/Noun', 18), ('닥치고/Noun', 18), ('짜증나/Adjective', 18), ('감명/Noun', 18), ('노/Noun', 18), ('마/Noun', 18), ('박찬욱/Noun', 18), ('신하균/Noun', 18), ('멜깁슨/Noun', 18), ('황정민/Noun', 18), ('비슷한/Adjective', 18), ('밀/Noun', 18), ('먼/Adjective', 18), ('니콜라스/Noun', 18), ('뻔하고/Adjective', 18), ('뭐라/Verb', 18), ('10분/Number', 18), ('마무리/Noun', 18), ('↓/Foreign', 18), ('영/Noun', 18), ('람보/Noun', 18), ('아이돌/Noun', 18), ('재밌기만/Adjective', 18), ('영원히/Adjective', 18), ('후회/Noun', 18), ('에로영화/Noun', 18), ('김/Noun', 18), ('용두사미/Noun', 18), ('속/Modifier', 18), ('겉멋/Noun', 18), ('존잼/Noun', 18), ('다시는/Verb', 18), ('편집/Noun', 18), ('케/Noun', 18), ('재미있었다/Adjective', 18), ('정/Noun', 18), ('취향/Noun', 17), ('골/Noun', 17), ('정체/Noun', 17), ('일본인/Noun', 17), ('김민종/Noun', 17), ('왠만한/Adjective', 17), ('변태/Noun', 17), ('왠만해/Adjective', 17), ('본인/Noun', 17), ('멍청한/Adjective', 17), ('미/Adjective', 17), ('미래/Noun', 17), ('디카프리오/Noun', 17), ('깊이/Noun', 17), ('깡패/Noun', 17), ('일베/Noun', 17), ('맨날/Adverb', 17), ('따뜻하고/Adjective', 17), ('미드/Noun', 17), ('자살/Noun', 17), ('영화계/Noun', 17), ('오빠/Noun', 17), ('팬/Noun', 17), ('이정재/Noun', 17), ('영웅본색/Noun', 17), ('앞뒤/Noun', 17), ('기독교/Noun', 17), ('작년/Noun', 17), ('링/Noun', 17), ('수/Modifier', 17), ('더러운/Adjective', 17), ('고딩/Noun', 17), ('단/Noun', 17), ('차태현/Noun', 17), ('잔잔하니/Adjective', 17), ('전지현/Noun', 17), ('먼가/Adjective', 17), ('분노/Noun', 17), ('제임스/Noun', 17), ('하품/Noun', 17), ('상처/Noun', 17), ('둘/Noun', 17), ('신/Modifier', 17), ('40/Number', 17), ('선/Noun', 17), ('베리/Noun', 17), ('2015년/Number', 17), ('박신양/Noun', 17), ('바람/Noun', 17), ('악마/Noun', 17), ('어쩌면/Noun', 17), ('삼가/Verb', 17), ('잔잔하면서도/Adjective', 17), ('앜/Noun', 17), ('잼있네요/Verb', 17), ('일상/Noun', 17), ('싸이코/Noun', 17), ('언제나/Adverb', 17), ('지브리/Noun', 17), ('로봇/Noun', 17), ('애기/Noun', 17), ('개잼/Noun', 17), ('송지효/Noun', 17), ('주상욱/Noun', 17), ('송승헌/Noun', 17), ('남자배우/Noun', 16), ('억지스러운/Adjective', 16), ('기대하지/Adjective', 16), ('유럽/Noun', 16), ('꽃/Noun', 16), ('윤아/Noun', 16), ('좋았다/Adjective', 16), ('안성기/Noun', 16), ('이도/Noun', 16), ('타/Modifier', 16), ('순수하고/Adjective', 16), ('아기/Noun', 16), ('쏘우/Noun', 16), ('죄/Noun', 16), ('김희선/Noun', 16), ('배급사/Noun', 16), ('좋았어요/Adjective', 16), ('슈퍼/Noun', 16), ('손예진/Noun', 16), ('5분/Number', 16), ('-_-/Punctuation', 16), ('하하/Exclamation', 16), ('무거운/Adjective', 16), ('개그/Noun', 16), ('무간도/Noun', 16), ('토니/Noun', 16), ('신/Noun', 16), ('여전히/Adjective', 16), ('픽사/Noun', 16), ('외계인/Noun', 16), ('특별한/Adjective', 16), ('웨슬리/Noun', 16), ('용서/Noun', 16), ('낚였다/Noun', 16), ('14년/Number', 16), ('스페인/Noun', 16), ('평가/Noun', 16), ('태국/Noun', 16), ('김강우/Noun', 16), ('배우는/Verb', 16), ('담배/Noun', 16), ('오우삼/Noun', 16), ('할머니/Noun', 16), ('캐/Noun', 16), ('선동/Noun', 16), ('잼있게/Verb', 16), ('오래된/Adjective', 16), ('히어로/Noun', 16), ('운명/Noun', 16), ('고전/Modifier', 16), ('저런/Noun', 16), ('60년/Number', 16), ('디워/Noun', 16), ('밥/Noun', 16), ('ㅋㅋㅋㅋㅋㅋㅋ/KoreanParticle', 16), ('형/Noun', 16), ('다양한/Adjective', 16), ('대충/Noun', 16), ('백/Modifier', 16), ('가벼운/Adjective', 16), ('뒷/Modifier', 16), ('기/Noun', 16), ('중년/Noun', 16), ('호불호/Noun', 16), ('파리/Noun', 16), ('류승범/Noun', 16), ('적어도/Adverb', 16), ('나레이션/Noun', 16), ('당연히/Adjective', 16), ('남편/Noun', 16), ('마틴/Noun', 16), ('나라/Noun', 16), ('종합/Noun', 16), ('영원한/Adjective', 16), ('왜케/Noun', 15), ('ㄱ/KoreanParticle', 15), ('수많은/Adjective', 15), ('그리/Verb', 15), ('착한/Adjective', 15), ('아쉬운/Adjective', 15), ('어째서/Noun', 15), ('데이빗/Noun', 15), ('메시지/Noun', 15), ('13/Number', 15), ('하이/Noun', 15), ('진부하고/Adjective', 15), ('님들/Noun', 15), ('비추/Verb', 15), ('특이한/Adjective', 15), ('스필버그/Noun', 15), ('쓸데없이/Adverb', 15), ('답답한/Adjective', 15), ('아따/Noun', 15), ('빅뱅/Noun', 15), ('모야/Noun', 15), ('이민기/Noun', 15), ('강렬한/Adjective', 15), ('조승우/Noun', 15), ('얘/Noun', 15), ('겨울/Noun', 15), ('몽환/Noun', 15), ('쿠바/Noun', 15), ('파라/Noun', 15), ('짧은/Adjective', 15), ('유머/Noun', 15), ('큐브/Noun', 15), ('모/Modifier', 15), ('아프리카/Noun', 15), ('샘/Noun', 15), ('좋/Adjective', 15), ('장동건/Noun', 15), ('중국영화/Noun', 15), ('고등학생/Noun', 15), ('졸리/Noun', 15), ('목소리/Noun', 15), ('호/Noun', 15), ('완벽/Noun', 15), ('비행기/Noun', 15), ('김태희/Noun', 15), ('기발한/Adjective', 15), ('뜬금/Noun', 15), ('흑인/Noun', 15), ('인내심/Noun', 15), ('색다른/Adjective', 15), ('어쩜/Noun', 15), ('오인혜/Noun', 15), ('불면증/Noun', 15), ('야한/Adjective', 15), ('상업/Noun', 15), ('2008년/Number', 15), ('톰크루즈/Noun', 15), ('페이크/Noun', 15), ('최민수/Noun', 15), ('아저씨/Noun', 15), ('재밌당/Adjective', 15), ('유치하다/Adjective', 15), ('지금껏/Noun', 15), ('한숨/Noun', 15), ('김혜수/Noun', 15), ('잼나요/Verb', 15), ('으아/Exclamation', 15), ('술/Noun', 15), ('아줌마/Noun', 15), ('늘/Noun', 15), ('결코/Noun', 15), ('유명한/Adjective', 15), ('물/Noun', 15), ('설명/Noun', 15), ('단연/Noun', 14), ('공유/Noun', 14), ('감각/Noun', 14), ('필름/Noun', 14), ('빠순이/Noun', 14), ('줄리아/Noun', 14), ('훈훈하고/Adjective', 14), ('십/Modifier', 14), ('2012년/Number', 14), ('악역/Noun', 14), ('크리스/Noun', 14), ('설득/Noun', 14), ('나쁘지/Adjective', 14), ('보/Noun', 14), ('저렇게/Adverb', 14), ('매주/Adverb', 14), ('2005년/Number', 14), ('아이유/Noun', 14), ('록키/Noun', 14), ('의지/Noun', 14), ('특수/Noun', 14), ('18/Number', 14), ('발상/Noun', 14), ('즐겁게/Adjective', 14), ('잠깐/Noun', 14), ('이전/Noun', 14), ('한예슬/Noun', 14), ('이나영/Noun', 14), ('김구라/Noun', 14), ('졸잼/Noun', 14), ('불편한/Adjective', 14), ('로코/Noun', 14), ('완죤/Noun', 14), ('아련한/Adjective', 14), ('주제가/Noun', 14), ('작은/Adjective', 14), ('화끈한/Adjective', 14), ('차승원/Noun', 14), ('아무런/Adjective', 14), ('여름/Noun', 14), ('순간/Noun', 14), ('이완/Noun', 14), ('자본주의/Noun', 14), ('It/Alpha', 14), ('언젠가/Adverb', 14), ('흑/Adverb', 14), ('부부/Noun', 14), ('로/Noun', 14), ('산/Noun', 14), ('영혼/Noun', 14), ('배/Noun', 14), ('좋음/Adjective', 14), ('웬만하면/Adjective', 14), ('사상/Noun', 14), ('재미없/Adjective', 14), ('연극/Noun', 14), ('어처구니/Noun', 14), ('불쌍해서/Adjective', 14), ('열심히/Adverb', 14), ('맘/Noun', 14), ('1회/Number', 14), ('우뢰매/Noun', 14), ('스크린/Noun', 14), ('넌/Noun', 14), ('와나/Noun', 14), ('엽문/Noun', 14), ('펑펑/Noun', 14), ('인류/Noun', 14), ('부모/Noun', 14), ('과학/Noun', 14), ('손/Noun', 14), ('양동근/Noun', 14), ('엔딩크레딧/Noun', 14), ('뭐라고/Verb', 14), ('일베충/Noun', 14), ('요새/Noun', 14), ('유쾌/Noun', 14), ('잔잔하면서/Adjective', 14), ('주온/Noun', 14), ('해도/Noun', 14), ('신의/Noun', 14), ('오히려/Noun', 14), ('미안/Noun', 14), ('거짓말/Noun', 14), ('역쉬/Noun', 14), ('황당/Noun', 14), ('투/Noun', 14), ('요/Noun', 14), ('20분/Number', 14), ('인디아나/Noun', 14), ('인도영화/Noun', 14), ('아이언맨/Noun', 14), ('낚시/Noun', 14), ('미야자키/Noun', 14), ('라스/Noun', 14), ('우정/Noun', 14), ('유승준/Noun', 14), ('테이큰/Noun', 14), ('나쁜/Adjective', 14), ('강지환/Noun', 14), ('망한/Adjective', 14), ('파격/Noun', 14), ('여친/Noun', 14), ('글/Noun', 14), ('내일/Noun', 13), ('군더더기/Noun', 13), ('자동차/Noun', 13), ('블랙코미디/Noun', 13), ('영웅/Noun', 13), ('짧지만/Adjective', 13), ('전라도/Noun', 13), ('존내/Noun', 13), ('근/Modifier', 13), ('유치하지만/Adjective', 13), ('주/Noun', 13), ('우디/Noun', 13), ('sf/Alpha', 13), ('어차피/Noun', 13), ('다크나이트/Noun', 13), ('명성/Noun', 13), ('비극/Noun', 13), ('가나다/Noun', 13), ('화질/Noun', 13), ('고증/Noun', 13), ('예수/Noun', 13), ('스트레스/Noun', 13), ('예쁜/Adjective', 13), ('양/Modifier', 13), ('재밌긴한데/Adjective', 13), ('스텝업/Noun', 13), ('김수현/Noun', 13), ('진리/Noun', 13), ('샤를/Noun', 13), ('감상/Noun', 13), ('빈약한/Adjective', 13), ('할리우드/Noun', 13), ('암/Noun', 13), ('스크림/Noun', 13), ('잔인하고/Adjective', 13), ('임창정/Noun', 13), ('결과/Noun', 13), ('90분/Number', 13), ('임청하/Noun', 13), ('오글오글/Adverb', 13), ('d/Alpha', 13), ('마블/Noun', 13), ('1등/Number', 13), ('4년/Number', 13), ('칼/Noun', 13), ('슈렉/Noun', 13), ('보영/Noun', 13), ('충무로/Noun', 13), ('문근영/Noun', 13), ('스타일/Noun', 13), ('기본/Noun', 13), ('신현준/Noun', 13), ('유오성/Noun', 13), ('대중/Noun', 13), ('덴젤/Noun', 13), ('답답하고/Adjective', 13), ('50/Number', 13), ('박진/Noun', 13), ('6년/Number', 13), ('다이하드/Noun', 13), ('아주아주/Adverb', 13), ('조잡한/Adjective', 13), ('미안하지만/Adjective', 13), ('짜임새/Noun', 13), ('현대/Noun', 13), ('재미있었음/Adjective', 13), ('과대/Noun', 13), ('이상하게/Adjective', 13), ('역사왜곡/Noun', 13), ('고인/Noun', 13), ('웰/Noun', 13), ('새/Modifier', 13), ('완전한/Adjective', 13), ('재미나/Noun', 13), ('많은것을/Adjective', 13), ('빠른/Adjective', 13), ('엽기/Noun', 13), ('좋았습니다/Adjective', 13), ('채민서/Noun', 13), ('벤/Verb', 13), ('Bad/Alpha', 13), ('개똥/Noun', 13), ('슬프지만/Adjective', 13), ('크/Verb', 13), ('카/Noun', 13), ('97년/Number', 13), ('사운드/Noun', 13), ('보다보다/Verb', 13), ('사다코/Noun', 12), ('이승기/Noun', 12), ('푸하하하/Noun', 12), ('....../Punctuation', 12), ('국산/Noun', 12), ('절망/Noun', 12), ('열정/Noun', 12), ('탕웨이/Noun', 12), ('ㅋㅋㅋㅋㅋㅋㅋㅋ/KoreanParticle', 12), ('욕망/Noun', 12), ('송혜교/Noun', 12), ('개그맨/Noun', 12), ('고현정/Noun', 12), ('풍자/Noun', 12), ('스피드/Noun', 12), ('백인/Noun', 12), ('5년/Number', 12), ('한정/Noun', 12), ('화가/Noun', 12), ('천국/Noun', 12), ('퀄리티/Noun', 12), ('the/Alpha', 12), ('대략/Noun', 12), ('보고싶다/Verb', 12), ('뭥미/Noun', 12), ('임권택/Noun', 12), ('에바/Noun', 12), ('지루할/Adjective', 12), ('병/Noun', 12), ('아담/Noun', 12), ('느낌/Noun', 12), ('개념/Noun', 12), ('전달/Noun', 12), ('할아버지/Noun', 12), ('폐지/Noun', 12), ('어쩌다/Adverb', 12), ('힘/Noun', 12), ('어이없다/Adjective', 12), ('강아지/Noun', 12), ('독일/Noun', 12), ('명품/Noun', 12), ('소리/Noun', 12), ('OOOO/Alpha', 12), ('최초/Noun', 12), ('표현/Noun', 12), ('MBC/Alpha', 12), ('파워/Noun', 12), ('블랙/Noun', 12), ('나중/Noun', 12), ('대학/Noun', 12), ('♥/Foreign', 12), ('각각/Noun', 12), ('뱀파이어/Noun', 12), ('대놓고/Adverb', 12), ('오버/Noun', 12), ('이쁜/Adjective', 12), ('신민아/Noun', 12), ('19/Number', 12), ('기대한/Adjective', 12), ('화이팅/Noun', 12), ('포르노/Noun', 12), ('도전/Noun', 12), ('이따위/Modifier', 12), ('원표/Noun', 12), ('안타깝다/Adjective', 12), ('각자/Noun', 12), ('트랜스포머/Noun', 12), ('이만/Noun', 12), ('잊을수/Verb', 12), ('구지성/Noun', 12), ('최소한/Noun', 12), ('만들지/Verb', 12), ('만화가/Noun', 12), ('가/Verb', 12), ('마누라/Noun', 12), ('놀라운/Adjective', 12), ('문/Modifier', 12), ('인기/Noun', 12), ('독특하고/Adjective', 12), ('서세원/Noun', 12), ('부족한/Adjective', 12), ('런닝맨/Noun', 12), ('나오는/Verb', 12), ('강호동/Noun', 12), ('어디가/Noun', 12), ('썩/Noun', 12), ('사건/Noun', 12), ('2001년/Number', 12), ('장근석/Noun', 12), ('상/Noun', 12), ('보지마라/Verb', 12), ('타인/Noun', 12), ('아쉽다/Adjective', 12), ('케이트/Noun', 12), ('자유/Noun', 12), ('GOOD/Alpha', 12), ('맷/Noun', 12), ('15/Number', 12), ('나와/Verb', 12), ('주지훈/Noun', 12), ('얼마/Noun', 12), ('혁명/Noun', 12), ('맨/Noun', 12), ('드래곤볼/Noun', 12), ('낚/Noun', 12), ('정서/Noun', 12), ('클린트/Noun', 12), ('쉽게/Verb', 12), ('미스캐스팅/Noun', 12), ('배경음악/Noun', 12), ('알바생/Noun', 12), ('이동욱/Noun', 12), ('원숭이/Noun', 12), ('캐서린/Noun', 12), ('인피니트/Noun', 12), ('불쌍한/Adjective', 12), ('조연/Noun', 12), ('수면제/Noun', 12), ('러셀/Noun', 12), ('할말을/Verb', 12), ('낮은/Adjective', 12), ('탐/Verb', 12), ('유치함/Adjective', 12), ('노력/Noun', 12), ('비주/Noun', 12), ('국민/Noun', 12), ('게리/Noun', 12), ('졸/Noun', 11), ('서기/Noun', 11), ('돼지/Noun', 11), ('여자애/Noun', 11), ('안습/Noun', 11), ('영구/Noun', 11), ('줄리/Noun', 11), ('국민학교/Noun', 11), ('폭풍/Noun', 11), ('아씨/Noun', 11), ('기적/Noun', 11), ('ㅋㅋㅋㅋㅋㅋㅋㅋㅋㅋㅋㅋㅋ/KoreanParticle', 11), ('케릭/Noun', 11), ('딱/Modifier', 11), ('일주일/Noun', 11), ('갓/Modifier', 11), ('웹툰/Noun', 11), ('생애/Noun', 11), ('망할/Adjective', 11), ('행복한/Adjective', 11), ('안녕하세요/Adjective', 11), ('의사/Noun', 11), ('유치해/Adjective', 11), ('예고/Noun', 11), ('브래드피트/Noun', 11), ('생/Noun', 11), ('차마/Noun', 11), ('이상하다/Adjective', 11), ('슈퍼맨/Noun', 11), ('학생/Noun', 11), ('자비/Noun', 11), ('짜증난다/Adjective', 11), ('해리슨/Noun', 11), ('바로/Noun', 11), ('죽은/Verb', 11), ('올/Modifier', 11), ('효민/Noun', 11), ('무척/Noun', 11), ('뻔하지만/Adjective', 11), ('아역배우/Noun', 11), ('노인/Noun', 11), ('쓸데없는/Adjective', 11), ('보진/Verb', 11), ('엉망/Noun', 11), ('kbs/Alpha', 11), ('주진모/Noun', 11), ('동심/Noun', 11), ('심심할/Adjective', 11), ('홍진호/Noun', 11), ('7년/Number', 11), ('기독교인/Noun', 11), ('시원한/Adjective', 11), ('어설프다/Adjective', 11), ('그럴/Adjective', 11), ('???/Punctuation', 11), ('기승/Noun', 11), ('기대했던/Adjective', 11), ('섬세한/Adjective', 11), ('대책/Noun', 11), ('50년/Number', 11), ('유치원/Noun', 11), ('가족영화/Noun', 11), ('유치해서/Adjective', 11), ('형편/Noun', 11), ('웬/Noun', 11), ('스스로/Noun', 11), ('보고나니/Verb', 11), ('OCN/Alpha', 11), ('부담/Noun', 11), ('완젼/Noun', 11), ('어쩔/Modifier', 11), ('멋져/Adjective', 11), ('우연/Noun', 11), ('원/Noun', 11), ('브라질/Noun', 11), ('ebs/Alpha', 11), ('온갖/Noun', 11), ('해피엔딩/Noun', 11), ('불후/Noun', 11), ('오페라/Noun', 11), ('KBS/Alpha', 11), ('재밌을/Adjective', 11), ('위트/Noun', 11), ('깊은/Adjective', 11), ('숨막히는/Adjective', 11), ('만든/Verb', 11), ('광고/Noun', 11), ('미스/Noun', 11), ('하도/Verb', 11), ('강혜정/Noun', 11), ('행복/Noun', 11), ('ㅋㅋㅋㅋㅋㅋㅋㅋㅋㅋ/KoreanParticle', 11), ('정신병/Noun', 11), ('깨알/Noun', 11), ('Best/Alpha', 11), ('응/Noun', 11), ('메세지/Noun', 11), ('풋풋한/Adjective', 11), ('무섭지/Adjective', 11), ('가정/Noun', 11), ('음식/Noun', 11), ('두고두고/Noun', 11), ('2010년/Number', 11), ('평균/Noun', 11), ('겨울왕국/Noun', 11), ('아내/Noun', 11), ('부천/Noun', 11), ('줄리엣/Noun', 11), ('시청자/Noun', 11), ('심오한/Adjective', 11), ('늦게/Verb', 11), ('과/Noun', 11), ('여/Noun', 11), ('하나경/Noun', 11), ('야하지도/Adjective', 11), ('단/Modifier', 11), ('정작/Noun', 11), ('주관/Noun', 11), ('학창시절/Noun', 11), ('조조/Noun', 11), ('이순신/Noun', 11), ('로맨틱코미디/Noun', 11), ('서우/Noun', 11), ('마크/Noun', 11), ('고맙습니다/Adjective', 11), ('라스트/Noun', 11), ('오호/Exclamation', 11), ('ㅆㄹㄱ/KoreanParticle', 11), ('신세경/Noun', 11), ('첫사랑/Noun', 11), ('불멸/Noun', 11), ('블록버스터/Noun', 11), ('두번째/Noun', 11), ('제작자/Noun', 11), ('애초/Noun', 11), ('짱구/Noun', 11), ('길/Noun', 11), ('유아인/Noun', 11), ('오직/Noun', 11), ('꼬맹이/Noun', 11), ('출연자/Noun', 11), ('저번/Noun', 11), ('호기심/Noun', 11), ('쩌/Noun', 11), ('그런/Adjective', 11), ('질/Noun', 11), ('12년/Number', 10), ('2009년/Number', 10), ('신화/Noun', 10), ('즐/Noun', 10), ('김명민/Noun', 10), ('자식/Noun', 10), ('단편/Noun', 10), ('숨은/Verb', 10), ('야동/Noun', 10), ('히/Adverb', 10), ('빨간/Adjective', 10), ('똑같은/Adjective', 10), ('곽지민/Noun', 10), ('9년/Number', 10), ('이자벨/Noun', 10), ('양조위/Noun', 10), ('숀펜/Noun', 10), ('재미있었고/Adjective', 10), ('컨저링/Noun', 10), ('만/Modifier', 10), ('국가/Noun', 10), ('저런/Modifier', 10), ('스탤론/Noun', 10), ('좀더/Noun', 10), ('재미있었습니다/Adjective', 10), ('주원/Noun', 10), ('The/Alpha', 10), ('무섭다/Adjective', 10), ('물론/Adverb', 10), ('그런데/Conjunction', 10), ('존경/Noun', 10), ('외로움/Noun', 10), ('이제야/Noun', 10), ('황비홍/Noun', 10), ('여지/Noun', 10), ('오다/Verb', 10), ('유명배우/Noun', 10), ('장애/Noun', 10), ('차/Noun', 10), ('진한/Adjective', 10), ('일부러/Noun', 10), ('99년/Number', 10), ('조지/Noun', 10), ('엑스맨/Noun', 10), ('하이킥/Noun', 10), ('싸이코패스/Noun', 10), ('ㅋㅋㅋㅋㅋㅋㅋㅋㅋㅋㅋ/KoreanParticle', 10), ('용기/Noun', 10), ('놀란/Noun', 10), ('대/Verb', 10), ('재미없는데/Adjective', 10), ('타짜/Noun', 10), ('김승우/Noun', 10), ('곰/Noun', 10), ('지루했다/Adjective', 10), ('산만하고/Adjective', 10), ('문제/Noun', 10), ('성공/Noun', 10), ('미니/Noun', 10), ('비현실적/Noun', 10), ('정상/Noun', 10), ('모처럼/Noun', 10), ('에릭/Noun', 10), ('성의/Noun', 10), ('마이/Noun', 10), ('8년/Number', 10), ('라이언/Noun', 10), ('채플린/Noun', 10), ('잼나게/Verb', 10), ('아는/Verb', 10), ('적절한/Adjective', 10), ('정의/Noun', 10), ('긴장/Noun', 10), ('죽기전에/Verb', 10), ('상어/Noun', 10), ('머냐/Adjective', 10), ('괜찮네요/Adjective', 10), ('광주/Noun', 10), ('2011년/Number', 10), ('찌질/Verb', 10), ('안젤리나/Noun', 10), ('전세계/Noun', 10), ('일반/Noun', 10), ('김민준/Noun', 10), ('이성재/Noun', 10), ('고민/Noun', 10), ('고소영/Noun', 10), ('제레미/Noun', 10), ('내겐/Noun', 10), ('답답/Noun', 10), ('장나라/Noun', 10), ('아이디어/Noun', 10), ('원빈/Noun', 10), ('어렷을때/Noun', 10), ('홍경인/Noun', 10), ('뭐랄까/Verb', 10), ('오리/Noun', 10), ('가짜/Noun', 10), ('조선족/Noun', 10), ('개독/Noun', 10), ('문화/Noun', 10), ('이민정/Noun', 10), ('슈스케/Noun', 10), ('심사/Noun', 10), ('난해하다/Adjective', 10), ('노무현/Noun', 10), ('재미있/Adjective', 10), ('웃고/Verb', 10), ('강인/Noun', 10), ('이럴수가/Adjective', 10), ('레오/Noun', 10), ('멋있다/Adjective', 10), ('소통/Noun', 10), ('오로라/Noun', 10), ('완전히/Adjective', 10), ('발레/Noun', 10), ('노무/Noun', 10), ('유쾌하게/Adjective', 10), ('스포츠/Noun', 10), ('히스/Noun', 10), ('니미/Noun', 10), ('옛/Modifier', 10), ('고아라/Noun', 10), ('흑백/Noun', 10), ('삼/Modifier', 10), ('루시/Noun', 10), ('축구/Noun', 10), ('황당한/Adjective', 10), ('베드/Noun', 10), ('이안/Noun', 10), ('성지순례/Noun', 10), ('엑소/Noun', 10), ('한때/Adverb', 10), ('조용히/Adjective', 10), ('극적/Noun', 10), ('흔/Modifier', 10), ('비싼/Adjective', 10), ('직접/Noun', 10), ('이상/Noun', 10), ('92년/Number', 10), ('괜찮다/Adjective', 10), ('롭/Noun', 10), ('내내/Noun', 10), ('브래드/Noun', 10), ('존재/Noun', 10), ('조아요/Adjective', 10), ('감탄/Noun', 10), ('오타쿠/Noun', 10), ('고질라/Noun', 10), ('이탈리아/Noun', 10), ('그런대로/Adverb', 10), ('레/Noun', 10), ('뉴욕/Noun', 10), ('약/Modifier', 10), ('피터/Noun', 10), ('서양/Noun', 10), ('패션/Noun', 9), ('클라라/Noun', 9), ('무술/Noun', 9), ('크리스토퍼/Noun', 9), ('강수연/Noun', 9), ('98년/Number', 9), ('어딘가/Noun', 9), ('간첩/Noun', 9), ('13년/Number', 9), ('C/Alpha', 9), ('절대로/Noun', 9), ('난이/Noun', 9), ('도입/Noun', 9), ('영화사/Noun', 9), ('장선우/Noun', 9), ('낯선/Noun', 9), ('박시후/Noun', 9), ('스파이더맨/Noun', 9), ('한지민/Noun', 9), ('연인/Noun', 9), ('메인/Noun', 9), ('안타까운/Adjective', 9), ('이요원/Noun', 9), ('강용석/Noun', 9), ('롱/Noun', 9), ('교육/Noun', 9), ('소지섭/Noun', 9), ('시시한/Adjective', 9), ('조커/Noun', 9), ('전두환/Noun', 9), ('히치콕/Noun', 9), ('소름끼치는/Verb', 9), ('`/Punctuation', 9), ('아하/Noun', 9), ('매년/Noun', 9), ('모니카/Noun', 9), ('지옥/Noun', 9), ('뻔/Noun', 9), ('맙소사/Exclamation', 9), ('0.5/Number', 9), ('암/Modifier', 9), ('부자/Noun', 9), ('라/Josa', 9), ('재치/Noun', 9), ('공리/Noun', 9), ('무섭/Adjective', 9), ('흐미/Noun', 9), ('보는데/Verb', 9), ('범죄자/Noun', 9), ('1990년/Number', 9), ('지독한/Adjective', 9), ('웃겨/Verb', 9), ('바다/Noun', 9), ('펭귄/Noun', 9), ('패러디/Noun', 9), ('익숙한/Adjective', 9), ('지루하기/Adjective', 9), ('장혁/Noun', 9), ('달콤한/Adjective', 9), ('쩔어/Verb', 9), ('재미없네/Adjective', 9), ('죽여/Verb', 9), ('no/Alpha', 9), ('잔혹한/Adjective', 9), ('전부/Noun', 9), ('살인마/Noun', 9), ('다른사람/Noun', 9), ('공/Modifier', 9), ('죽기/Verb', 9), ('외모/Noun', 9), ('오로지/Adverb', 9), ('뱀/Noun', 9), ('식스센스/Noun', 9), ('송새벽/Noun', 9), ('장쯔이/Noun', 9), ('유지태/Noun', 9), ('난해한/Adjective', 9), ('패/Noun', 9), ('관심/Noun', 9), ('내게/Verb', 9), ('배두나/Noun', 9), ('호러/Noun', 9), ('잊혀지지/Verb', 9), ('김래원/Noun', 9), ('댓글알바/Noun', 9), ('과도/Noun', 9), ('여행/Noun', 9), ('카리스마/Noun', 9), ('잠시/Noun', 9), ('이문식/Noun', 9), ('오랫동안/Adverb', 9), ('매혹/Noun', 9), ('쥬라기/Noun', 9), ('최지우/Noun', 9), ('당황/Noun', 9), ('오마이갓/Noun', 9), ('아카데미/Noun', 9), ('앗/Noun', 9), ('어쩐지/Noun', 9), ('에디/Noun', 9), ('가볍고/Adjective', 9), ('데미무어/Noun', 9), ('괜찮네/Adjective', 9), ('이준기/Noun', 9), ('끝날/Verb', 9), ('풋풋하고/Adjective', 9), ('지나친/Verb', 9), ('포켓몬/Noun', 9), ('덕분/Noun', 9), ('예측/Noun', 9), ('암울한/Adjective', 9), ('딱/VerbPrefix', 9), ('ㅋㅋㅋㅋㅋㅋㅋㅋㅋㅋㅋㅋㅋㅋ/KoreanParticle', 9), ('짱짱맨/Noun', 9), ('ㅠㅠㅠ/KoreanParticle', 9), ('무서움/Noun', 9), ('역겨운/Adjective', 9), ('웬만한/Adjective', 9), ('괜찮음/Adjective', 9), ('젊음/Noun', 9), ('해피/Noun', 9), ('정재영/Noun', 9), ('진행/Noun', 9), ('민폐/Noun', 9)]\n"
          ],
          "name": "stdout"
        }
      ]
    },
    {
      "cell_type": "code",
      "metadata": {
        "id": "jYm2U1nhndI6"
      },
      "source": [
        "# 주어진 토큰(c) 다음에 가장 많이 등장하는 n개의 단어를 반환하는 함수를 만든다.\n",
        "def most_common(c, n, pos=None):\n",
        "  if pos is None:\n",
        "    return cfd[tokenize(c)[0]].most_common(n)\n",
        "  else:\n",
        "    return cfd[\"/\".join([c, pos])].most_common(n)"
      ],
      "execution_count": 29,
      "outputs": []
    },
    {
      "cell_type": "code",
      "metadata": {
        "id": "73MTcDKPoliE",
        "colab": {
          "base_uri": "https://localhost:8080/"
        },
        "outputId": "4ea92bd1-7e27-43f6-cfc7-6c2a9374c5a7"
      },
      "source": [
        "print(most_common(\"나\", 10))"
      ],
      "execution_count": 30,
      "outputs": [
        {
          "output_type": "stream",
          "text": [
            "[('는/Josa', 831), ('의/Josa', 339), ('만/Josa', 213), ('에게/Josa', 148), ('에겐/Josa', 84), ('랑/Josa', 81), ('한테/Josa', 50), ('참/Verb', 45), ('이/Determiner', 44), ('와도/Josa', 43)]\n"
          ],
          "name": "stdout"
        }
      ]
    },
    {
      "cell_type": "code",
      "metadata": {
        "id": "AaoisqGFnZaK"
      },
      "source": [
        "# 단어별 등장 빈도를 기반으로 조건부 확률을 추정한다.\n",
        "cpd = ConditionalProbDist(cfd, MLEProbDist) # MLEProbDist from nltk.probability, type: string representation"
      ],
      "execution_count": 31,
      "outputs": []
    },
    {
      "cell_type": "code",
      "metadata": {
        "id": "WrIUwvsOmv17",
        "colab": {
          "base_uri": "https://localhost:8080/",
          "height": 36
        },
        "outputId": "c10b52a2-eaf6-43e1-b8b7-7c51fad1c3bf"
      },
      "source": [
        "# “.” 다음에 “</s>”가 올 확률을 출력한다.\n",
        "print(cpd[tokenize(\".\")[0]].prob(\"</s>\")) # 중간에 ... 가 많아서 생각보다 높을 것으로 추정"
      ],
      "execution_count": null,
      "outputs": [
        {
          "output_type": "stream",
          "text": [
            "0.39102658679807606\n"
          ],
          "name": "stdout"
        }
      ]
    },
    {
      "cell_type": "code",
      "metadata": {
        "id": "RPJO9Bw9sLcL"
      },
      "source": [
        "# 토큰 c 다음에 토큰 w가 bigram으로 함께 등장할 확률을 구한다. P(w|c)\n",
        "def bigram_prob(c, w):\n",
        "  context = tokenize(c)[0]\n",
        "  word = tokenize(w)[0]\n",
        "  return cpd[context].prob(word)"
      ],
      "execution_count": 32,
      "outputs": []
    },
    {
      "cell_type": "code",
      "metadata": {
        "id": "5W56LrNYs6MO",
        "colab": {
          "base_uri": "https://localhost:8080/"
        },
        "outputId": "a579504c-3875-4c05-f596-b133ea032923"
      },
      "source": [
        "print(bigram_prob(\"이\", \"영화\"))"
      ],
      "execution_count": 33,
      "outputs": [
        {
          "output_type": "stream",
          "text": [
            "0.4010748656417948\n"
          ],
          "name": "stdout"
        }
      ]
    },
    {
      "cell_type": "code",
      "metadata": {
        "id": "80QHPkHXs9qX",
        "colab": {
          "base_uri": "https://localhost:8080/"
        },
        "outputId": "2735dbae-be69-4b8e-d569-6de01276a998"
      },
      "source": [
        "print(bigram_prob(\"영화\", \"이\"))"
      ],
      "execution_count": 34,
      "outputs": [
        {
          "output_type": "stream",
          "text": [
            "0.00015767585785521414\n"
          ],
          "name": "stdout"
        }
      ]
    },
    {
      "cell_type": "code",
      "metadata": {
        "id": "Jat3RD0LtJ8Z"
      },
      "source": [
        "# 조건부 확률을 알게 되면 가장 확률이 높은 토큰열을 토대로 문장을 생성할 수 있다.\n",
        "def generate_sentence(seed=None, debug=False):\n",
        "  if seed is not None:\n",
        "    import random\n",
        "    random.seed(seed) # seed 같으면 동일한 순서로 난수 발생\n",
        "  c = \"<s>\"\n",
        "  sentence = []\n",
        "  while True:\n",
        "    if c not in cpd:\n",
        "      break\n",
        "    w = cpd[c].generate()\n",
        "\n",
        "    if w == \"</s>\":\n",
        "      break\n",
        "    \n",
        "    word = w.split(\"/\")[0]\n",
        "    pos = w.split(\"/\")[1]\n",
        "\n",
        "    # 조사, 어미 등을 제외하고 각 토큰은 띄어쓰기로 구분하여 생성한다.\n",
        "    if c == \"<s>\":\n",
        "      sentence.append(word.title())\n",
        "    elif c in [\"`\", \"\\\"\",\"'\",\"(\"]:\n",
        "      sentence.append(word)\n",
        "    elif word in [\"'\", \".\", \",\", \")\", \":\", \";\", \"?\"]:\n",
        "      sentence.append(word)\n",
        "    elif pos in [\"Josa\", \"Punctuation\", \"Suffix\"]:\n",
        "        sentence.append(word)\n",
        "    elif w in [\"임/Noun\", \"것/Noun\", \"는걸/Noun\", \"릴때/Noun\",\n",
        "                \"되다/Verb\", \"이다/Verb\", \"하다/Verb\", \"이다/Adjective\"]:\n",
        "        sentence.append(word)\n",
        "    else:\n",
        "        sentence.append(\" \" + word)\n",
        "    c = w\n",
        "\n",
        "    if debug:\n",
        "      print(w)\n",
        "\n",
        "  return \"\".join(sentence)"
      ],
      "execution_count": null,
      "outputs": []
    },
    {
      "cell_type": "code",
      "metadata": {
        "id": "pgWQJXqRuLMF",
        "colab": {
          "base_uri": "https://localhost:8080/",
          "height": 56
        },
        "outputId": "2a218810-c33e-4ecf-ea42-87c4e5499f04"
      },
      "source": [
        "print(generate_sentence(2))"
      ],
      "execution_count": null,
      "outputs": [
        {
          "output_type": "stream",
          "text": [
            "도리까지 본 영화 너무... 뭔가.. 최고네요. 하지만.. 눈물 낫다는건 또 영화에 들지 않는다. 근데 뭐야 어떻게 그렇게 착했던 윤재랑은 에바 그린 드레스 소리 듣는거임\"\"\" 에리 욧의 미모로 합성 한 가수 노래와 흥행 놓친 영화다. 사투리 연기 하나 없는 ‘ 스피드 감 넘치는 스릴 넘치는 연기를 이해 되지 못 하시는 분보다 훨 재밌구만 평점을 망처 놓은 듯하다. 영화 보는이로 하여금 불편함을 느꼇을듯\n"
          ],
          "name": "stdout"
        }
      ]
    },
    {
      "cell_type": "code",
      "metadata": {
        "id": "7RdPvL2AuLy8",
        "colab": {
          "base_uri": "https://localhost:8080/",
          "height": 1000
        },
        "outputId": "1d4f81c7-7e6f-406a-f024-2d6abfdc7cc3"
      },
      "source": [
        "generate_sentence(2, debug=True)"
      ],
      "execution_count": null,
      "outputs": [
        {
          "output_type": "stream",
          "text": [
            "도리/Noun\n",
            "까지/Josa\n",
            "본/Verb\n",
            "영화/Noun\n",
            "너무/Adverb\n",
            ".../Punctuation\n",
            "뭔가/Noun\n",
            "../Punctuation\n",
            "최고/Noun\n",
            "네/Suffix\n",
            "요/Josa\n",
            "./Punctuation\n",
            "하지만/Conjunction\n",
            "../Punctuation\n",
            "눈물/Noun\n",
            "낫다는건/Verb\n",
            "또/Noun\n",
            "영화/Noun\n",
            "에/Josa\n",
            "들지/Verb\n",
            "않는다/Verb\n",
            "./Punctuation\n",
            "근데/Adverb\n",
            "뭐/Noun\n",
            "야/Josa\n",
            "어떻게/Adjective\n",
            "그렇게/Adverb\n",
            "착했던/Adjective\n",
            "윤재/Noun\n",
            "랑은/Josa\n",
            "에바/Noun\n",
            "그린/Noun\n",
            "드레스/Noun\n",
            "소리/Noun\n",
            "듣는거/Verb\n",
            "임/Noun\n",
            "\"\"\"/Punctuation\n",
            "에리/Noun\n",
            "욧의/Noun\n",
            "미모/Noun\n",
            "로/Josa\n",
            "합성/Noun\n",
            "한/Determiner\n",
            "가수/Noun\n",
            "노래/Noun\n",
            "와/Josa\n",
            "흥행/Noun\n",
            "놓친/Verb\n",
            "영화/Noun\n",
            "다/Josa\n",
            "./Punctuation\n",
            "사투리/Noun\n",
            "연기/Noun\n",
            "하나/Noun\n",
            "없는/Adjective\n",
            "‘/Foreign\n",
            "스피드/Noun\n",
            "감/Noun\n",
            "넘치는/Adjective\n",
            "스릴/Noun\n",
            "넘치는/Adjective\n",
            "연기/Noun\n",
            "를/Josa\n",
            "이해/Noun\n",
            "되지/Verb\n",
            "못/VerbPrefix\n",
            "하시는/Verb\n",
            "분/Noun\n",
            "보다/Josa\n",
            "훨/Noun\n",
            "재밌구만/Adjective\n",
            "평점/Noun\n",
            "을/Josa\n",
            "망처/Noun\n",
            "놓은/Verb\n",
            "듯/Noun\n",
            "하다/Verb\n",
            "./Punctuation\n",
            "영화/Noun\n",
            "보는이로/Verb\n",
            "하여금/Adverb\n",
            "불편함을/Adjective\n",
            "느꼇을듯/Noun\n"
          ],
          "name": "stdout"
        },
        {
          "output_type": "execute_result",
          "data": {
            "text/plain": [
              "'도리까지 본 영화 너무... 뭔가.. 최고네요. 하지만.. 눈물 낫다는건 또 영화에 들지 않는다. 근데 뭐야 어떻게 그렇게 착했던 윤재랑은 에바 그린 드레스 소리 듣는거임\"\"\" 에리 욧의 미모로 합성 한 가수 노래와 흥행 놓친 영화다. 사투리 연기 하나 없는 ‘ 스피드 감 넘치는 스릴 넘치는 연기를 이해 되지 못 하시는 분보다 훨 재밌구만 평점을 망처 놓은 듯하다. 영화 보는이로 하여금 불편함을 느꼇을듯'"
            ]
          },
          "metadata": {
            "tags": []
          },
          "execution_count": 72
        }
      ]
    },
    {
      "cell_type": "markdown",
      "metadata": {
        "id": "6wV8yp-J2U5j"
      },
      "source": [
        "### 5. 결과\n",
        "： 위 예제는 코퍼스 내의 등장 빈도에 기반하여 문장을 생성한다. bigram 언어 모델로 생성한 것이기 때문에 인접한 두 단어는 그나마 자연스럽지만 멀리 떨어진 단어와는 전혀 무관한 모습을 보인다. 또한 생성된 문장의 전체적인 문맥이 부자연스러우며 통사적으로 부적절한 모습도 보인다. 이는 코퍼스 내의 정보만으로 제한된 단어 조합만을 고려하는 N-gram 언어 모델의 한계로 보인다. 위 예제는 단순화를 위해 전처리와 규칙 처리를 최소화하였는데, 데이터셋을 늘리고 한국어 특징에 맞게 전처리를 진행한다면 보다 향상된 결과를 얻을 수 있을 것이다.\n"
      ]
    },
    {
      "cell_type": "markdown",
      "metadata": {
        "id": "BaSov8sY2w1s"
      },
      "source": [
        "<참고>\n",
        "\n",
        "> https://datascienceschool.net/view-notebook/a0c848e1e2d343d685e6077c35c4203b/\n",
        "\n",
        "안 열리면:\n",
        ">https://datascienceschool.net/03%20machine%20learning/03.01.05%20%ED%99%95%EB%A5%A0%EB%A1%A0%EC%A0%81%20%EC%96%B8%EC%96%B4%20%EB%AA%A8%ED%98%95.html \n"
      ]
    }
  ]
}