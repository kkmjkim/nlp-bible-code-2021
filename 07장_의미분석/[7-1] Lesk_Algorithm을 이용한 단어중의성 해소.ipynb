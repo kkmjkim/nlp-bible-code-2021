{
  "nbformat": 4,
  "nbformat_minor": 0,
  "metadata": {
    "colab": {
      "name": "Lesk_Algorithm_실습.ipynb",
      "provenance": [],
      "collapsed_sections": []
    },
    "kernelspec": {
      "name": "python3",
      "display_name": "Python 3"
    }
  },
  "cells": [
    {
      "cell_type": "markdown",
      "metadata": {
        "id": "2V5YBS-bs3gW"
      },
      "source": [
        "***nltk 패키지 다운로드***"
      ]
    },
    {
      "cell_type": "code",
      "metadata": {
        "id": "AzwbJnE-siDh",
        "colab": {
          "base_uri": "https://localhost:8080/"
        },
        "outputId": "63b3d621-e5f7-43bd-b06f-231aeb570b66"
      },
      "source": [
        "!pip3 install nltk==3.3"
      ],
      "execution_count": 36,
      "outputs": [
        {
          "output_type": "stream",
          "text": [
            "Requirement already satisfied: nltk==3.3 in /usr/local/lib/python3.7/dist-packages (3.3)\n",
            "Requirement already satisfied: six in /usr/local/lib/python3.7/dist-packages (from nltk==3.3) (1.15.0)\n"
          ],
          "name": "stdout"
        }
      ]
    },
    {
      "cell_type": "markdown",
      "metadata": {
        "id": "Po12R4oGtz6S"
      },
      "source": [
        "***wordnet 관련 패키지 nltk import***"
      ]
    },
    {
      "cell_type": "code",
      "metadata": {
        "id": "SknqGJv6tCW-",
        "colab": {
          "base_uri": "https://localhost:8080/"
        },
        "outputId": "54ac8474-3330-4775-d063-100a7336a683"
      },
      "source": [
        "import nltk\n",
        "nltk.download('wordnet')\n",
        "nltk.download('punkt')\n",
        "nltk.download('stopwords')\n",
        "from nltk.corpus import wordnet \n",
        "from nltk import word_tokenize\n",
        "from nltk.corpus import stopwords\n",
        "import sys"
      ],
      "execution_count": 73,
      "outputs": [
        {
          "output_type": "stream",
          "text": [
            "[nltk_data] Downloading package wordnet to /root/nltk_data...\n",
            "[nltk_data]   Package wordnet is already up-to-date!\n",
            "[nltk_data] Downloading package punkt to /root/nltk_data...\n",
            "[nltk_data]   Package punkt is already up-to-date!\n",
            "[nltk_data] Downloading package stopwords to /root/nltk_data...\n",
            "[nltk_data]   Package stopwords is already up-to-date!\n"
          ],
          "name": "stdout"
        }
      ]
    },
    {
      "cell_type": "markdown",
      "metadata": {
        "id": "uCfx2tE3uOVe"
      },
      "source": [
        "***단어와  문장에 나타난 단어에 대해  Best Sense 추출***"
      ]
    },
    {
      "cell_type": "code",
      "metadata": {
        "id": "8I3ysskcBpYI"
      },
      "source": [
        "def disambiguate(word, sentence, stopwords):\n",
        "        # Best sense 를 얻기위한 Lesk 알고리즘을 작성해보세요.\n",
        "        \n",
        "        word_senses = wordnet.synsets(word)\n",
        "        best_sense = word_senses[0]  # Assume that first sense is most freq.\n",
        "        max_overlap = 0\n",
        "        context = set(word_tokenize(sentence))\n",
        "        for sense in word_senses: # check for every sense, get the best one\n",
        "            signature = tokenized_gloss(sense)\n",
        "            overlap = compute_overlap(signature, context, stopwords)\n",
        "            if overlap > max_overlap:\n",
        "                max_overlap = overlap\n",
        "                best_sense = sense\n",
        "                \n",
        "        return best_sense"
      ],
      "execution_count": 69,
      "outputs": []
    },
    {
      "cell_type": "markdown",
      "metadata": {
        "id": "olCLCgPeBv76"
      },
      "source": [
        "***sense의 definition에 대한 모든 token 추출***"
      ]
    },
    {
      "cell_type": "code",
      "metadata": {
        "id": "8GrMe88tC1SM"
      },
      "source": [
        "def tokenized_gloss(sense):\n",
        "        print(\"The definition for \", sense, \" : \", sense.definition())\n",
        "        tokens = set(word_tokenize(sense.definition()))\n",
        "        for example in sense.examples(): # why doing this??\n",
        "            tokens.union(set(word_tokenize(example)))\n",
        "        return tokens"
      ],
      "execution_count": 70,
      "outputs": []
    },
    {
      "cell_type": "markdown",
      "metadata": {
        "id": "Kk0kzsW6BwvS"
      },
      "source": [
        "***겹치는 단어 비교***"
      ]
    },
    {
      "cell_type": "code",
      "metadata": {
        "id": "gcduxEp5DH-T"
      },
      "source": [
        "def compute_overlap(signature, context, stopwords):\n",
        "        gloss = signature.difference(stopwords)\n",
        "        return len(gloss.intersection(context))"
      ],
      "execution_count": 71,
      "outputs": []
    },
    {
      "cell_type": "markdown",
      "metadata": {
        "id": "_WbpC6W6uXDz"
      },
      "source": [
        "***Main***"
      ]
    },
    {
      "cell_type": "code",
      "metadata": {
        "id": "xdqUjnqLuZJh",
        "colab": {
          "base_uri": "https://localhost:8080/"
        },
        "outputId": "86f218af-b8d3-4c8c-85ee-ebc34aeaf8a6"
      },
      "source": [
        "stopwords = set(stopwords.words('english')) # NLTK에서 지정한 영어 불용어 처리 ex) i, my, they...\n",
        "sentence = (\"They eat a meal\")\n",
        "context = set(word_tokenize(sentence)) # {'a', 'meal', 'They', 'eat'}\n",
        "word = 'eat'\n",
        "\n",
        "print(\"Word :\", word)\n",
        "syn = wordnet.synsets('eat')[1] # eat.v.02\n",
        "print(\"Sense :\", syn.name())\n",
        "print(\"Definition :\", syn.definition())\n",
        "print(\"Sentence :\", sentence)\n",
        "\n",
        "signature = tokenized_gloss(syn)\n",
        "print(signature) # {'meal', 'take', ';', 'a', 'eat'}\n",
        "print(compute_overlap(signature, context, stopwords)) # 2 : ('meal', 'eat')\n",
        "print(\"Best sense: \", disambiguate(word, sentence, stopwords)) # this word in the sentence, which sense?"
      ],
      "execution_count": 72,
      "outputs": [
        {
          "output_type": "stream",
          "text": [
            "Word : eat\n",
            "Sense : eat.v.02\n",
            "Definition : eat a meal; take a meal\n",
            "Sentence : They eat a meal\n",
            "The definition for  Synset('eat.v.02')  :  eat a meal; take a meal\n",
            "{'meal', 'take', ';', 'a', 'eat'}\n",
            "2\n",
            "The definition for  Synset('eat.v.01')  :  take in solid food\n",
            "The definition for  Synset('eat.v.02')  :  eat a meal; take a meal\n",
            "The definition for  Synset('feed.v.06')  :  take in food; used of animals only\n",
            "The definition for  Synset('eat.v.04')  :  worry or cause anxiety in a persistent way\n",
            "The definition for  Synset('consume.v.05')  :  use up (resources or materials)\n",
            "The definition for  Synset('corrode.v.01')  :  cause to deteriorate due to the action of water, air, or an acid\n",
            "Best sense:  Synset('eat.v.02')\n"
          ],
          "name": "stdout"
        }
      ]
    },
    {
      "cell_type": "code",
      "metadata": {
        "id": "0tlLhNX2v7p_",
        "outputId": "ef2b04c7-f015-4b94-e177-16864c430754",
        "colab": {
          "base_uri": "https://localhost:8080/"
        }
      },
      "source": [
        "# another example\n",
        "stopwords = set(stopwords.words('english')) # NLTK에서 지정한 영어 불용어 처리 ex) i, my, they...\n",
        "\n",
        "s1 = 'The workers at the industrial plant were overworked.'\n",
        "s2 = 'The living plant was no longer bearing flowers.' # awkward but works properly\n",
        "word = 'plant'\n",
        "\n",
        "signature1 = tokenized_gloss(wordnet.synsets('plant')[0])\n",
        "signature2 = tokenized_gloss(wordnet.synsets('plant')[1])\n",
        "context1 = set(word_tokenize(s1))\n",
        "context2 = set(word_tokenize(s2))\n",
        "print(compute_overlap(signature1, context1, stopwords))\n",
        "print(compute_overlap(signature2, context2, stopwords))\n",
        "\n",
        "print(\"Best sense for \\\"plant\\\" in s1: \", disambiguate(word, s1, stopwords))\n",
        "print(\"Best sense for \\\"plant\\\" in s2: \", disambiguate(word, s2, stopwords))"
      ],
      "execution_count": 74,
      "outputs": [
        {
          "output_type": "stream",
          "text": [
            "The definition for  Synset('plant.n.01')  :  buildings for carrying on industrial labor\n",
            "The definition for  Synset('plant.n.02')  :  (botany) a living organism lacking the power of locomotion\n",
            "1\n",
            "1\n",
            "The definition for  Synset('plant.n.01')  :  buildings for carrying on industrial labor\n",
            "The definition for  Synset('plant.n.02')  :  (botany) a living organism lacking the power of locomotion\n",
            "The definition for  Synset('plant.n.03')  :  an actor situated in the audience whose acting is rehearsed but seems spontaneous to the audience\n",
            "The definition for  Synset('plant.n.04')  :  something planted secretly for discovery by another\n",
            "The definition for  Synset('plant.v.01')  :  put or set (seeds, seedlings, or plants) into the ground\n",
            "The definition for  Synset('implant.v.01')  :  fix or set securely or deeply\n",
            "The definition for  Synset('establish.v.02')  :  set up or lay the groundwork for\n",
            "The definition for  Synset('plant.v.04')  :  place into a river\n",
            "The definition for  Synset('plant.v.05')  :  place something or someone in a certain position in order to secretly observe or deceive\n",
            "The definition for  Synset('plant.v.06')  :  put firmly in the mind\n",
            "Best sense for \"plant\" in s1:  Synset('plant.n.01')\n",
            "The definition for  Synset('plant.n.01')  :  buildings for carrying on industrial labor\n",
            "The definition for  Synset('plant.n.02')  :  (botany) a living organism lacking the power of locomotion\n",
            "The definition for  Synset('plant.n.03')  :  an actor situated in the audience whose acting is rehearsed but seems spontaneous to the audience\n",
            "The definition for  Synset('plant.n.04')  :  something planted secretly for discovery by another\n",
            "The definition for  Synset('plant.v.01')  :  put or set (seeds, seedlings, or plants) into the ground\n",
            "The definition for  Synset('implant.v.01')  :  fix or set securely or deeply\n",
            "The definition for  Synset('establish.v.02')  :  set up or lay the groundwork for\n",
            "The definition for  Synset('plant.v.04')  :  place into a river\n",
            "The definition for  Synset('plant.v.05')  :  place something or someone in a certain position in order to secretly observe or deceive\n",
            "The definition for  Synset('plant.v.06')  :  put firmly in the mind\n",
            "Best sense for \"plant\" in s2:  Synset('plant.n.02')\n"
          ],
          "name": "stdout"
        }
      ]
    }
  ]
}