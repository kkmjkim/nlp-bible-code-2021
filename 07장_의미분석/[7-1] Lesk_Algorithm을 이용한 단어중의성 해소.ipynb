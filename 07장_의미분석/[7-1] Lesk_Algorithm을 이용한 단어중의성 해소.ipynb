{
  "nbformat": 4,
  "nbformat_minor": 0,
  "metadata": {
    "colab": {
      "name": "Lesk_Algorithm_실습.ipynb",
      "provenance": [],
      "collapsed_sections": []
    },
    "kernelspec": {
      "name": "python3",
      "display_name": "Python 3"
    }
  },
  "cells": [
    {
      "cell_type": "markdown",
      "metadata": {
        "id": "2V5YBS-bs3gW"
      },
      "source": [
        "***nltk 패키지 다운로드***"
      ]
    },
    {
      "cell_type": "code",
      "metadata": {
        "id": "AzwbJnE-siDh",
        "colab": {
          "base_uri": "https://localhost:8080/"
        },
        "outputId": "29174cd4-13f4-483c-d877-42ece32ecc74"
      },
      "source": [
        "!pip3 install nltk==3.3"
      ],
      "execution_count": 2,
      "outputs": [
        {
          "output_type": "stream",
          "text": [
            "Collecting nltk==3.3\n",
            "\u001b[?25l  Downloading https://files.pythonhosted.org/packages/50/09/3b1755d528ad9156ee7243d52aa5cd2b809ef053a0f31b53d92853dd653a/nltk-3.3.0.zip (1.4MB)\n",
            "\u001b[K     |████████████████████████████████| 1.4MB 5.4MB/s \n",
            "\u001b[?25hRequirement already satisfied: six in /usr/local/lib/python3.7/dist-packages (from nltk==3.3) (1.15.0)\n",
            "Building wheels for collected packages: nltk\n",
            "  Building wheel for nltk (setup.py) ... \u001b[?25l\u001b[?25hdone\n",
            "  Created wheel for nltk: filename=nltk-3.3-cp37-none-any.whl size=1394469 sha256=ded1aa5b8726d42787673e7d84c0840b8438965d7697269c8f285fedf8aa75ea\n",
            "  Stored in directory: /root/.cache/pip/wheels/d1/ab/40/3bceea46922767e42986aef7606a600538ca80de6062dc266c\n",
            "Successfully built nltk\n",
            "Installing collected packages: nltk\n",
            "  Found existing installation: nltk 3.2.5\n",
            "    Uninstalling nltk-3.2.5:\n",
            "      Successfully uninstalled nltk-3.2.5\n",
            "Successfully installed nltk-3.3\n"
          ],
          "name": "stdout"
        }
      ]
    },
    {
      "cell_type": "markdown",
      "metadata": {
        "id": "Po12R4oGtz6S"
      },
      "source": [
        "***wordnet 관련 패키지 nltk import***"
      ]
    },
    {
      "cell_type": "code",
      "metadata": {
        "id": "SknqGJv6tCW-",
        "colab": {
          "base_uri": "https://localhost:8080/"
        },
        "outputId": "2075f53d-b959-4883-bf33-dcaea30acb82"
      },
      "source": [
        "import nltk\n",
        "nltk.download('wordnet')\n",
        "nltk.download('punkt')\n",
        "nltk.download('stopwords')\n",
        "from nltk.corpus import wordnet \n",
        "from nltk import word_tokenize\n",
        "from nltk.corpus import stopwords\n",
        "import sys"
      ],
      "execution_count": 31,
      "outputs": [
        {
          "output_type": "stream",
          "text": [
            "[nltk_data] Downloading package wordnet to /root/nltk_data...\n",
            "[nltk_data]   Package wordnet is already up-to-date!\n",
            "[nltk_data] Downloading package punkt to /root/nltk_data...\n",
            "[nltk_data]   Package punkt is already up-to-date!\n",
            "[nltk_data] Downloading package stopwords to /root/nltk_data...\n",
            "[nltk_data]   Package stopwords is already up-to-date!\n"
          ],
          "name": "stdout"
        }
      ]
    },
    {
      "cell_type": "markdown",
      "metadata": {
        "id": "uCfx2tE3uOVe"
      },
      "source": [
        "***단어와  문장에 나타난 단어에 대해  Best Sense 추출***"
      ]
    },
    {
      "cell_type": "code",
      "metadata": {
        "id": "8I3ysskcBpYI"
      },
      "source": [
        "def disambiguate(word, sentence, stopwords):\n",
        "        # Best sense 를 얻기위한 Lesk 알고리즘을 작성해보세요.\n",
        "        \n",
        "        word_senses = wordnet.synsets(word)\n",
        "        best_sense = word_senses[0]  # Assume that first sense is most freq.\n",
        "        max_overlap = 0\n",
        "        context = set(word_tokenize(sentence))\n",
        "        for sense in word_senses: # check for every sense, get the best one\n",
        "            signature = tokenized_gloss(sense)\n",
        "            overlap = compute_overlap(signature, context, stopwords)\n",
        "            if overlap > max_overlap:\n",
        "                max_overlap = overlap\n",
        "                best_sense = sense\n",
        "                \n",
        "        return best_sense"
      ],
      "execution_count": 32,
      "outputs": []
    },
    {
      "cell_type": "markdown",
      "metadata": {
        "id": "olCLCgPeBv76"
      },
      "source": [
        "***sense의 definition에 대한 모든 token 추출***"
      ]
    },
    {
      "cell_type": "code",
      "metadata": {
        "id": "8GrMe88tC1SM"
      },
      "source": [
        "def tokenized_gloss(sense):\n",
        "        print(\"The definition for \", sense, \" : \", sense.definition())\n",
        "        tokens = set(word_tokenize(sense.definition()))\n",
        "        for example in sense.examples(): # why doing this??\n",
        "            tokens.union(set(word_tokenize(example)))\n",
        "        return tokens"
      ],
      "execution_count": 33,
      "outputs": []
    },
    {
      "cell_type": "markdown",
      "metadata": {
        "id": "Kk0kzsW6BwvS"
      },
      "source": [
        "***겹치는 단어 비교***"
      ]
    },
    {
      "cell_type": "code",
      "metadata": {
        "id": "gcduxEp5DH-T"
      },
      "source": [
        "def compute_overlap(signature, context, stopwords):\n",
        "        gloss = signature.difference(stopwords)\n",
        "        return len(gloss.intersection(context))"
      ],
      "execution_count": 34,
      "outputs": []
    },
    {
      "cell_type": "markdown",
      "metadata": {
        "id": "_WbpC6W6uXDz"
      },
      "source": [
        "***Main***"
      ]
    },
    {
      "cell_type": "code",
      "metadata": {
        "id": "xdqUjnqLuZJh",
        "colab": {
          "base_uri": "https://localhost:8080/"
        },
        "outputId": "c8c8d6b9-b874-4b25-a84f-dc86e9fadbf4"
      },
      "source": [
        "stopwords = set(stopwords.words('english')) # NLTK에서 지정한 영어 불용어 처리 ex) i, my, they...\n",
        "sentence = (\"They eat a meal\")\n",
        "context = set(word_tokenize(sentence)) # {'a', 'meal', 'They', 'eat'}\n",
        "word = 'eat'\n",
        "\n",
        "print(\"Word :\", word)\n",
        "syn = wordnet.synsets('eat')[1] # eat.v.02\n",
        "print(\"Sense :\", syn.name())\n",
        "print(\"Definition :\", syn.definition())\n",
        "print(\"Sentence :\", sentence)\n",
        "\n",
        "signature = tokenized_gloss(syn)\n",
        "print(signature) # {'meal', 'take', ';', 'a', 'eat'}\n",
        "print(compute_overlap(signature, context, stopwords)) # 2 : ('meal', 'eat')\n",
        "print(\"Best sense: \", disambiguate(word, sentence, stopwords)) # this word in the sentence, which sense?"
      ],
      "execution_count": 35,
      "outputs": [
        {
          "output_type": "stream",
          "text": [
            "Word : eat\n",
            "Sense : eat.v.02\n",
            "Definition : eat a meal; take a meal\n",
            "Sentence : They eat a meal\n",
            "The definition for  Synset('eat.v.02')  :  eat a meal; take a meal\n",
            "{'meal', 'take', ';', 'a', 'eat'}\n",
            "2\n",
            "The definition for  Synset('eat.v.01')  :  take in solid food\n",
            "The definition for  Synset('eat.v.02')  :  eat a meal; take a meal\n",
            "The definition for  Synset('feed.v.06')  :  take in food; used of animals only\n",
            "The definition for  Synset('eat.v.04')  :  worry or cause anxiety in a persistent way\n",
            "The definition for  Synset('consume.v.05')  :  use up (resources or materials)\n",
            "The definition for  Synset('corrode.v.01')  :  cause to deteriorate due to the action of water, air, or an acid\n",
            "Best sense:  Synset('eat.v.02')\n"
          ],
          "name": "stdout"
        }
      ]
    }
  ]
}