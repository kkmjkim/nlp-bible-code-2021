{
  "nbformat": 4,
  "nbformat_minor": 0,
  "metadata": {
    "colab": {
      "name": "NLTK_Tutorial.ipynb",
      "provenance": [],
      "authorship_tag": "ABX9TyNoZxiDjBaVR6n1ZBEyks7V",
      "include_colab_link": true
    },
    "kernelspec": {
      "name": "python3",
      "display_name": "Python 3"
    },
    "language_info": {
      "name": "python"
    }
  },
  "cells": [
    {
      "cell_type": "markdown",
      "metadata": {
        "id": "view-in-github",
        "colab_type": "text"
      },
      "source": [
        "<a href=\"https://colab.research.google.com/github/kkmjkim/nlp-bible-code-2021/blob/master/07%EC%9E%A5_%EC%9D%98%EB%AF%B8%EB%B6%84%EC%84%9D/NLTK_Tutorial.ipynb\" target=\"_parent\"><img src=\"https://colab.research.google.com/assets/colab-badge.svg\" alt=\"Open In Colab\"/></a>"
      ]
    },
    {
      "cell_type": "markdown",
      "metadata": {
        "id": "6kJsAguTNLbi"
      },
      "source": [
        "##NLTK tutorial link: https://www.youtube.com/playlist?list=PLQVvvaa0QuDf2JswnfiGkliBInZnIC4HL "
      ]
    },
    {
      "cell_type": "code",
      "metadata": {
        "colab": {
          "base_uri": "https://localhost:8080/"
        },
        "id": "_JJUokVqNPxv",
        "outputId": "5be4b7a3-3513-468b-abf8-9eee2e14708e"
      },
      "source": [
        "!pip3 install nltk==3.5 # 2021-03-20 latest version"
      ],
      "execution_count": 2,
      "outputs": [
        {
          "output_type": "stream",
          "text": [
            "Collecting nltk==3.5\n",
            "\u001b[?25l  Downloading https://files.pythonhosted.org/packages/92/75/ce35194d8e3022203cca0d2f896dbb88689f9b3fce8e9f9cff942913519d/nltk-3.5.zip (1.4MB)\n",
            "\u001b[K     |████████████████████████████████| 1.4MB 5.6MB/s \n",
            "\u001b[?25hRequirement already satisfied: click in /usr/local/lib/python3.7/dist-packages (from nltk==3.5) (7.1.2)\n",
            "Requirement already satisfied: joblib in /usr/local/lib/python3.7/dist-packages (from nltk==3.5) (1.0.1)\n",
            "Requirement already satisfied: regex in /usr/local/lib/python3.7/dist-packages (from nltk==3.5) (2019.12.20)\n",
            "Requirement already satisfied: tqdm in /usr/local/lib/python3.7/dist-packages (from nltk==3.5) (4.41.1)\n",
            "Building wheels for collected packages: nltk\n",
            "  Building wheel for nltk (setup.py) ... \u001b[?25l\u001b[?25hdone\n",
            "  Created wheel for nltk: filename=nltk-3.5-cp37-none-any.whl size=1434674 sha256=e8f7f00e86d4f3adf5b44cefa1530c444fff4a1118a8083ec321a593923600bd\n",
            "  Stored in directory: /root/.cache/pip/wheels/ae/8c/3f/b1fe0ba04555b08b57ab52ab7f86023639a526d8bc8d384306\n",
            "Successfully built nltk\n",
            "Installing collected packages: nltk\n",
            "  Found existing installation: nltk 3.3\n",
            "    Uninstalling nltk-3.3:\n",
            "      Successfully uninstalled nltk-3.3\n",
            "Successfully installed nltk-3.5\n"
          ],
          "name": "stdout"
        }
      ]
    },
    {
      "cell_type": "markdown",
      "metadata": {
        "id": "L92UynncRQy9"
      },
      "source": [
        "#WordNet (lec. 10)"
      ]
    },
    {
      "cell_type": "code",
      "metadata": {
        "id": "k4RXLvnyNr-J"
      },
      "source": [
        "from nltk.corpus import wordnet"
      ],
      "execution_count": 6,
      "outputs": []
    },
    {
      "cell_type": "code",
      "metadata": {
        "colab": {
          "base_uri": "https://localhost:8080/"
        },
        "id": "JVR4N47INr7q",
        "outputId": "26fc4732-bb6e-4366-e5da-873d69b4dc05"
      },
      "source": [
        "syns = wordnet.synsets(\"program\")\n",
        "print(syns)"
      ],
      "execution_count": 26,
      "outputs": [
        {
          "output_type": "stream",
          "text": [
            "[Synset('plan.n.01'), Synset('program.n.02'), Synset('broadcast.n.02'), Synset('platform.n.02'), Synset('program.n.05'), Synset('course_of_study.n.01'), Synset('program.n.07'), Synset('program.n.08'), Synset('program.v.01'), Synset('program.v.02')]\n"
          ],
          "name": "stdout"
        }
      ]
    },
    {
      "cell_type": "code",
      "metadata": {
        "colab": {
          "base_uri": "https://localhost:8080/"
        },
        "id": "2oah2v8ANr54",
        "outputId": "eaeb0256-e4ef-4c60-e209-bdd85d178231"
      },
      "source": [
        "print(syns[0].name()) # plan.n.01"
      ],
      "execution_count": 15,
      "outputs": [
        {
          "output_type": "stream",
          "text": [
            "plan.n.01\n"
          ],
          "name": "stdout"
        }
      ]
    },
    {
      "cell_type": "code",
      "metadata": {
        "colab": {
          "base_uri": "https://localhost:8080/"
        },
        "id": "NeiakEfwNr4O",
        "outputId": "4fe4a2ad-aa8e-44fd-9ebd-21413bf38f5e"
      },
      "source": [
        "print(syns[0].lemmas())\n",
        "print(syns[0].lemmas()[1].name()) # program"
      ],
      "execution_count": 29,
      "outputs": [
        {
          "output_type": "stream",
          "text": [
            "[Lemma('plan.n.01.plan'), Lemma('plan.n.01.program'), Lemma('plan.n.01.programme')]\n",
            "program\n"
          ],
          "name": "stdout"
        }
      ]
    },
    {
      "cell_type": "markdown",
      "metadata": {
        "id": "PH6hqjeWaoFi"
      },
      "source": [
        "* In British English, \"programme\" is used for agenda, TV show, or collection of projects (does it even matter here?)\n",
        "\n",
        "* lemmatization: doing \"proper\" reduction to dictionary word form(lemma)\n",
        "\n",
        "* lemma: base form"
      ]
    },
    {
      "cell_type": "code",
      "metadata": {
        "colab": {
          "base_uri": "https://localhost:8080/"
        },
        "id": "ADzPSD_Fp5gw",
        "outputId": "4914c674-92e3-44ef-99fe-1780ea7de582"
      },
      "source": [
        "# definition\n",
        "print(syns[0].definition())"
      ],
      "execution_count": 76,
      "outputs": [
        {
          "output_type": "stream",
          "text": [
            "a series of steps to be carried out or goals to be accomplished\n"
          ],
          "name": "stdout"
        }
      ]
    },
    {
      "cell_type": "code",
      "metadata": {
        "colab": {
          "base_uri": "https://localhost:8080/"
        },
        "id": "_thcAeWnNr0S",
        "outputId": "af0ae73b-1fcf-412d-806c-edf4a86e11a3"
      },
      "source": [
        "# examples\n",
        "print(syns[0].examples())"
      ],
      "execution_count": 18,
      "outputs": [
        {
          "output_type": "stream",
          "text": [
            "['they drew up a six-step plan', 'they discussed plans for a new bond issue']\n"
          ],
          "name": "stdout"
        }
      ]
    },
    {
      "cell_type": "code",
      "metadata": {
        "colab": {
          "base_uri": "https://localhost:8080/"
        },
        "id": "AvsldZy6cypL",
        "outputId": "9db50e98-01bd-451c-ae85-2469c37110fd"
      },
      "source": [
        "print(wordnet.synsets(\"good\"))\n",
        "print(wordnet.synsets(\"good\")[2].lemmas())\n",
        "print(wordnet.synsets(\"good\")[3].lemmas())"
      ],
      "execution_count": 37,
      "outputs": [
        {
          "output_type": "stream",
          "text": [
            "[Synset('good.n.01'), Synset('good.n.02'), Synset('good.n.03'), Synset('commodity.n.01'), Synset('good.a.01'), Synset('full.s.06'), Synset('good.a.03'), Synset('estimable.s.02'), Synset('beneficial.s.01'), Synset('good.s.06'), Synset('good.s.07'), Synset('adept.s.01'), Synset('good.s.09'), Synset('dear.s.02'), Synset('dependable.s.04'), Synset('good.s.12'), Synset('good.s.13'), Synset('effective.s.04'), Synset('good.s.15'), Synset('good.s.16'), Synset('good.s.17'), Synset('good.s.18'), Synset('good.s.19'), Synset('good.s.20'), Synset('good.s.21'), Synset('well.r.01'), Synset('thoroughly.r.02')]\n",
            "[Lemma('good.n.03.good'), Lemma('good.n.03.goodness')]\n",
            "[Lemma('commodity.n.01.commodity'), Lemma('commodity.n.01.trade_good'), Lemma('commodity.n.01.good')]\n"
          ],
          "name": "stdout"
        }
      ]
    },
    {
      "cell_type": "code",
      "metadata": {
        "id": "L2Jp-5KcNryf"
      },
      "source": [
        "# synonyms, antonyms\n",
        "synonyms = []\n",
        "antonyms = []\n",
        "\n",
        "for syn in wordnet.synsets(\"good\"): # [Synset('good.n.01'), Synset('good.n.02'), ...\n",
        "  for l in syn.lemmas(): # ex) l = synsets[0].lemmas()\n",
        "    print(\"l= \", l)\n",
        "    synonyms.append(l.name()) # just the word\n",
        "    print(synonyms)\n",
        "    if l.antonyms(): # if exists\n",
        "      antonyms.append(l.antonyms()[0].name())\n",
        "      print(antonyms)\n",
        "print(set(synonyms))\n",
        "print(set(antonyms))"
      ],
      "execution_count": null,
      "outputs": []
    },
    {
      "cell_type": "code",
      "metadata": {
        "colab": {
          "base_uri": "https://localhost:8080/"
        },
        "id": "2YfXlRKINrwm",
        "outputId": "42357bb8-d64c-453d-de82-657be7560362"
      },
      "source": [
        "w1 = wordnet.synset(\"ship.n.01\")\n",
        "w2 = wordnet.synset(\"boat.n.01\")\n",
        "print(w1.wup_similarity(w2))"
      ],
      "execution_count": 41,
      "outputs": [
        {
          "output_type": "stream",
          "text": [
            "0.9090909090909091\n"
          ],
          "name": "stdout"
        }
      ]
    },
    {
      "cell_type": "code",
      "metadata": {
        "colab": {
          "base_uri": "https://localhost:8080/"
        },
        "id": "ZGuYwJmffZR5",
        "outputId": "358487b9-3a6a-45ef-cb7f-55d303c1adcd"
      },
      "source": [
        "w1 = wordnet.synset(\"ship.n.01\")\n",
        "w2 = wordnet.synset(\"car.n.01\")\n",
        "print(w1.wup_similarity(w2))"
      ],
      "execution_count": 42,
      "outputs": [
        {
          "output_type": "stream",
          "text": [
            "0.6956521739130435\n"
          ],
          "name": "stdout"
        }
      ]
    },
    {
      "cell_type": "code",
      "metadata": {
        "colab": {
          "base_uri": "https://localhost:8080/"
        },
        "id": "GeB3PCHrfbYl",
        "outputId": "fdcd80d5-9ba3-44de-cd56-8a7ac02aaca8"
      },
      "source": [
        "w1 = wordnet.synset(\"ship.n.01\")\n",
        "w2 = wordnet.synset(\"cat.n.01\")\n",
        "print(w1.wup_similarity(w2))"
      ],
      "execution_count": 46,
      "outputs": [
        {
          "output_type": "stream",
          "text": [
            "0.32\n"
          ],
          "name": "stdout"
        }
      ]
    },
    {
      "cell_type": "markdown",
      "metadata": {
        "id": "eOdrQ6FLfFsG"
      },
      "source": [
        "* wup_similarity(): Wu-Palmer Similarity\n",
        "* Return a score denoting how similar two word senses are, based on the depth of the two senses in the taxonomy and that of their Least Common Subsumer (most specific ancestor node). Note that at this time the scores given do _not_ always agree with those given by Pedersen's Perl implementation of Wordnet Similarity."
      ]
    },
    {
      "cell_type": "code",
      "metadata": {
        "colab": {
          "base_uri": "https://localhost:8080/"
        },
        "id": "vvGkWtNai0V7",
        "outputId": "155701c9-1c42-44b8-a32e-2ef3b8ebe149"
      },
      "source": [
        "import nltk\n",
        "nltk.download('punkt')\n",
        "from nltk import word_tokenize\n",
        "from nltk.corpus import stopwords"
      ],
      "execution_count": 51,
      "outputs": [
        {
          "output_type": "stream",
          "text": [
            "[nltk_data] Downloading package punkt to /root/nltk_data...\n",
            "[nltk_data]   Unzipping tokenizers/punkt.zip.\n"
          ],
          "name": "stderr"
        }
      ]
    },
    {
      "cell_type": "code",
      "metadata": {
        "colab": {
          "base_uri": "https://localhost:8080/"
        },
        "id": "Jx0WQ8UFkF64",
        "outputId": "ce261dbe-3d17-44c7-8b64-71b3aa7752cf"
      },
      "source": [
        "# union\n",
        "s1 = word_tokenize(\"Hello, my name is Kelly. What is your name?\")\n",
        "s2 = word_tokenize(\"Please shut up, Kelly.\")\n",
        "print(\"s1 : \", s1)\n",
        "print(\"s2 : \", s2)\n",
        "s1 = set(s1)\n",
        "s2 = set(s2)\n",
        "s1.union(s2)\n",
        "print(\"set(s1) : \", s1)\n",
        "s1 = s1.union(s2)\n",
        "print(\"s1 union s2 : \", s1.union(s2)) # not redundant"
      ],
      "execution_count": 70,
      "outputs": [
        {
          "output_type": "stream",
          "text": [
            "s1 :  ['Hello', ',', 'my', 'name', 'is', 'Kelly', '.', 'What', 'is', 'your', 'name', '?']\n",
            "s2 :  ['Please', 'shut', 'up', ',', 'Kelly', '.']\n",
            "set(s1) :  {'Kelly', 'Hello', '.', 'is', 'What', '?', 'my', 'your', 'name', ','}\n",
            "s1 union s2 :  {'Kelly', 'Hello', 'up', 'is', '?', 'my', 'your', 'Please', '.', 'shut', 'What', 'name', ','}\n"
          ],
          "name": "stdout"
        }
      ]
    },
    {
      "cell_type": "code",
      "metadata": {
        "colab": {
          "base_uri": "https://localhost:8080/"
        },
        "id": "A7CsKeC2Nrst",
        "outputId": "2b0d51a6-b7ee-486a-8b30-42958264d9e4"
      },
      "source": [
        "# difference\n",
        "s1 = word_tokenize(\"Hello, my name is Kelly. What is your name?\")\n",
        "s2 = word_tokenize(\"Please shut up, Kelly.\")\n",
        "s1 = set(s1)\n",
        "s2 = set(s2)\n",
        "print(s1.difference(s2))\n",
        "print(s2.difference(s1))\n",
        "print(s1.intersection(s2))"
      ],
      "execution_count": 75,
      "outputs": [
        {
          "output_type": "stream",
          "text": [
            "{'Hello', 'is', 'What', '?', 'my', 'your', 'name'}\n",
            "{'shut', 'Please', 'up'}\n",
            "{'Kelly', '.', ','}\n"
          ],
          "name": "stdout"
        }
      ]
    },
    {
      "cell_type": "code",
      "metadata": {
        "id": "dCPnm1hrpn71"
      },
      "source": [
        "# definition"
      ],
      "execution_count": null,
      "outputs": []
    },
    {
      "cell_type": "code",
      "metadata": {
        "id": "-v8JrEIeNrqe"
      },
      "source": [
        ""
      ],
      "execution_count": null,
      "outputs": []
    },
    {
      "cell_type": "code",
      "metadata": {
        "id": "FlPUW84yNrok"
      },
      "source": [
        ""
      ],
      "execution_count": null,
      "outputs": []
    },
    {
      "cell_type": "code",
      "metadata": {
        "id": "l-bqHmGsNrm_"
      },
      "source": [
        ""
      ],
      "execution_count": null,
      "outputs": []
    },
    {
      "cell_type": "code",
      "metadata": {
        "id": "dSgx8_83NrW0"
      },
      "source": [
        ""
      ],
      "execution_count": null,
      "outputs": []
    }
  ]
}