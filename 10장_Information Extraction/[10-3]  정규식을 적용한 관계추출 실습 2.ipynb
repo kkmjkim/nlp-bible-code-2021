{
  "nbformat": 4,
  "nbformat_minor": 0,
  "metadata": {
    "colab": {
      "name": "실습 [10-3] 정규식을 적용한 관계추출 실습 2",
      "provenance": []
    },
    "kernelspec": {
      "name": "python3",
      "display_name": "Python 3"
    }
  },
  "cells": [
    {
      "cell_type": "markdown",
      "metadata": {
        "id": "FtKf8rWCCcF1"
      },
      "source": [
        "# **실습 10-3**\n",
        "\n"
      ]
    },
    {
      "cell_type": "code",
      "metadata": {
        "id": "sFs8dNDMCbJw",
        "colab": {
          "base_uri": "https://localhost:8080/"
        },
        "outputId": "fe5e3d0d-1432-47ed-b614-f2d309894a0c"
      },
      "source": [
        "import nltk\n",
        "from nltk.corpus import conll2002\n",
        "nltk.download('conll2002')\n",
        "import re"
      ],
      "execution_count": 1,
      "outputs": [
        {
          "output_type": "stream",
          "text": [
            "[nltk_data] Downloading package conll2002 to /root/nltk_data...\n",
            "[nltk_data]   Unzipping corpora/conll2002.zip.\n"
          ],
          "name": "stdout"
        }
      ]
    },
    {
      "cell_type": "code",
      "metadata": {
        "id": "XGMel5kCChtk",
        "colab": {
          "base_uri": "https://localhost:8080/"
        },
        "outputId": "a64e15c3-1be5-44c8-e154-a787f59e154b"
      },
      "source": [
        "# 여러개 정규식 추가\n",
        "vnv = \"\"\"\n",
        " (\n",
        " is/V|   \n",
        " was/V|   \n",
        " werd/V|  \n",
        " wordt/V  \n",
        " )\n",
        " .*       \n",
        " van/Prep \n",
        " \"\"\"\n",
        "\n",
        "# 정규식을 기준으로 전처리\n",
        "VAN = re.compile(vnv, re.VERBOSE) # allows you to visually separate logical sections of the pattern and add comments\n",
        "# VAN = re.compile(vnv)\n",
        "\n",
        "# conll2002 코퍼스에 대한 관계 추출\n",
        "for doc in conll2002.chunked_sents('ned.train'):\n",
        "  # print(\"doc : \", doc)\n",
        "  for rel in nltk.sem.extract_rels('PER', 'ORG', doc, corpus='conll2002', pattern=VAN):\n",
        "    # 네덜란드어의 관계\n",
        "    print(\"\", nltk.sem.clause(rel, relsym=\"VAN\")) # prints the relation in clausal form\n",
        "    \"\"\"기본 10 단어 창 내에서 두 NE와 왼쪽 및 오른쪽 컨텍스트 사이에 개입하는 실제 단어가 표시됨. \n",
        "    네덜란드어 사전을 사용하면 결과 VAN ( 'annie_lennox' , 'eurythmics' ) 이 왜 틀린지 알 수 있음\"\"\"\n",
        "    print (nltk.rtuple(rel, lcon=True , rcon=True )) # 3번째: ..back problems of singer Annie Lennox will enter the Eurythmics concert today..\n"
      ],
      "execution_count": 6,
      "outputs": [
        {
          "output_type": "stream",
          "text": [
            " VAN(\"cornet_d'elzius\", 'buitenlandse_handel')\n",
            "...'')[PER: \"Cornet/V d'Elzius/N\"] 'is/V op/Prep dit/Pron ogenblik/N kabinetsadviseur/N van/Prep staatssecretaris/N voor/Prep' [ORG: 'Buitenlandse/N Handel/N'](''...\n",
            " VAN('johan_rottiers', 'kardinaal_van_roey_instituut')\n",
            "...'')[PER: 'Johan/N Rottiers/N'] 'is/V informaticacoördinator/N van/Prep het/Art' [ORG: 'Kardinaal/N Van/N Roey/N Instituut/N']('in/Prep'...\n",
            " VAN('annie_lennox', 'eurythmics')\n",
            "...'Door/Prep rugproblemen/N van/Prep zangeres/N')[PER: 'Annie/N Lennox/N'] 'wordt/V het/Art concert/N van/Prep' [ORG: 'Eurythmics/N']('vandaag/Adv in/Prep'...\n"
          ],
          "name": "stdout"
        }
      ]
    }
  ]
}