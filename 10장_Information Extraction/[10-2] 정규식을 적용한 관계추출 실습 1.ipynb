{
  "nbformat": 4,
  "nbformat_minor": 0,
  "metadata": {
    "colab": {
      "name": "실습 [10-2] 정규식을 적용한 관계추출 실습 1",
      "provenance": []
    },
    "kernelspec": {
      "name": "python3",
      "display_name": "Python 3"
    }
  },
  "cells": [
    {
      "cell_type": "markdown",
      "metadata": {
        "id": "x-prBi54CIvA"
      },
      "source": [
        "# **실습 11-2**"
      ]
    },
    {
      "cell_type": "code",
      "metadata": {
        "id": "yeNWYHaQCCE7",
        "colab": {
          "base_uri": "https://localhost:8080/"
        },
        "outputId": "1225ce1b-a7d6-40e6-db05-62005f898f15"
      },
      "source": [
        "import re # 정규 표현식 모듈\n",
        "import nltk\n",
        "nltk.download('ieer') # Information Extraction and Entity Recognition Corpus."
      ],
      "execution_count": 1,
      "outputs": [
        {
          "output_type": "stream",
          "text": [
            "[nltk_data] Downloading package ieer to /root/nltk_data...\n",
            "[nltk_data]   Unzipping corpora/ieer.zip.\n"
          ],
          "name": "stdout"
        },
        {
          "output_type": "execute_result",
          "data": {
            "text/plain": [
              "True"
            ]
          },
          "metadata": {
            "tags": []
          },
          "execution_count": 1
        }
      ]
    },
    {
      "cell_type": "code",
      "metadata": {
        "id": "merf8KDmCMbN",
        "colab": {
          "base_uri": "https://localhost:8080/"
        },
        "outputId": "9cac6780-19be-4557-f884-fc627a82e1e2"
      },
      "source": [
        "# 단어가 포함된 문자열을 검색할 때 사용되는 관계 추출의 특수 정규식은 (?!\\b.+ing\\b) 임\n",
        "IN = re.compile(r'.*\\bin\\b(?!\\b.+ing)') # _ in _(not ending w/ -ing)\n",
        "\n",
        "for doc in nltk.corpus.ieer.parsed_docs('NYT_19980315'): # https://www.nltk.org/api/nltk.corpus.reader.html#nltk.corpus.reader.ieer.IEERCorpusReader.parsed_docs \n",
        "  print(\"doc : \", doc)\n",
        "  for rel in nltk.sem.extract_rels('ORG', 'LOC', doc, corpus='ieer', pattern = IN): # https://www.nltk.org/_modules/nltk/sem/relextract.html \n",
        "     print(nltk.sem.rtuple(rel)) # rtuple: (subj, filler, obj)"
      ],
      "execution_count": 5,
      "outputs": [
        {
          "output_type": "stream",
          "text": [
            "doc :  <IEERDocument NYT19980315.0063: 'PUBLIC RADIO HOSTS DROP IN AND MAYBE STAY TOO LONG'>\n",
            "[ORG: 'WHYY'] 'in' [LOC: 'Philadelphia']\n",
            "doc :  <IEERDocument NYT19980315.0064: 'IN CYBERSPACE, IS THERE LAW WHERE THERE IS NO LAND?'>\n",
            "[ORG: 'McGlashan &AMP; Sarrail'] 'firm in' [LOC: 'San Mateo']\n",
            "doc :  <IEERDocument NYT19980315.0067: 'THE SITES: TUNING INTO MUSIC ON THE WEB'>\n",
            "[ORG: 'Freedom Forum'] 'in' [LOC: 'Arlington']\n",
            "doc :  <IEERDocument NYT19980315.0069: 'ANALYSIS: TAXING INTERNET SALES _ GOVERNORS VS. TAX FREEDOM ACT'>\n",
            "[ORG: 'Brookings Institution'] ', the research group in' [LOC: 'Washington']\n",
            "doc :  <IEERDocument NYT19980315.0070: 'A SEARCH ENGINE THAT CHARGES FOR TOP BILLING'>\n",
            "[ORG: 'Idealab'] ', a self-described business incubator based in' [LOC: 'Los Angeles']\n",
            "[ORG: 'Open Text'] ', based in' [LOC: 'Waterloo']\n",
            "doc :  <IEERDocument NYT19980315.0071: 'COMING SOON: TV DOCUMENTARIES TO A BOOKSTORE NEAR YOU'>\n",
            "[ORG: 'WGBH'] 'in' [LOC: 'Boston']\n",
            "doc :  <IEERDocument NYT19980315.0072: 'WEATHER'>\n",
            "doc :  <IEERDocument NYT19980315.0073: 'DICAPRIO , CHARISMATIC STAR, BALKS AT TEEN IDOL IMAGE'>\n",
            "doc :  <IEERDocument NYT19980315.0074: \"You've read the book? Now see the television program. Inspired by ``Angela's...\">\n",
            "doc :  <IEERDocument NYT19980315.0084: 'A DIRECTOR WHO DARES, AND TAKES THE HEAT'>\n",
            "[ORG: 'Bastille Opera'] 'in' [LOC: 'Paris']\n",
            "doc :  <IEERDocument NYT19980315.0085: 'ADVERTISING: AFTER 32 YEARS , WELLS BDDP WILL CLOSE'>\n",
            "[ORG: 'Omnicom'] 'in' [LOC: 'New York']\n",
            "[ORG: 'DDB Needham'] 'in' [LOC: 'New York']\n",
            "[ORG: 'Kaplan Thaler Group'] 'in' [LOC: 'New York']\n",
            "[ORG: 'BBDO South'] 'in' [LOC: 'Atlanta']\n",
            "[ORG: 'Georgia-Pacific'] 'in' [LOC: 'Atlanta']\n",
            "doc :  <IEERDocument NYT19980315.0086: \"`THE GIFTS OF THE JEWS': DESERT NOMADS CHANGED THE WORLD WITH THE\">\n",
            "doc :  <IEERDocument NYT19980315.0087: 'MUSICIANS ON BROADWAY TO VOTE ON A CONTRACT'>\n"
          ],
          "name": "stdout"
        }
      ]
    }
  ]
}