{
  "nbformat": 4,
  "nbformat_minor": 0,
  "metadata": {
    "colab": {
      "name": "17-1 TextRank.ipynb",
      "provenance": []
    },
    "kernelspec": {
      "name": "python3",
      "display_name": "Python 3"
    }
  },
  "cells": [
    {
      "cell_type": "markdown",
      "metadata": {
        "id": "lFVbEF8Uu7sk"
      },
      "source": [
        "TextRank는 word graph나 sentence graph를 구축하고 PageRank로 핵심 단어/문장을 선택해서 문서를 요약함."
      ]
    },
    {
      "cell_type": "code",
      "metadata": {
        "id": "mzNyX8Q0bebV"
      },
      "source": [
        "from gensim.summarization.summarizer import summarize"
      ],
      "execution_count": 2,
      "outputs": []
    },
    {
      "cell_type": "code",
      "metadata": {
        "id": "mYsAyGqUblPU"
      },
      "source": [
        "text = '''Rice Pudding - Poem by Alan Alexander Milne\n",
        "... What is the matter with Mary Jane?\n",
        "... She's crying with all her might and main,\n",
        "... And she won't eat her dinner - rice pudding again -\n",
        "... What is the matter with Mary Jane?\n",
        "... What is the matter with Mary Jane?\n",
        "... I've promised her dolls and a daisy-chain,\n",
        "... And a book about animals - all in vain -\n",
        "... What is the matter with Mary Jane?\n",
        "... What is the matter with Mary Jane?\n",
        "... She's perfectly well, and she hasn't a pain;\n",
        "... But, look at her, now she's beginning again! -\n",
        "... What is the matter with Mary Jane?\n",
        "... What is the matter with Mary Jane?\n",
        "... I've promised her sweets and a ride in the train,\n",
        "... And I've begged her to stop for a bit and explain -\n",
        "... What is the matter with Mary Jane?\n",
        "... What is the matter with Mary Jane?\n",
        "... She's perfectly well and she hasn't a pain,\n",
        "... And it's lovely rice pudding for dinner again!\n",
        "... What is the matter with Mary Jane?'''"
      ],
      "execution_count": 3,
      "outputs": []
    },
    {
      "cell_type": "code",
      "metadata": {
        "id": "2ipBpFTzbo3T",
        "colab": {
          "base_uri": "https://localhost:8080/"
        },
        "outputId": "0af01ac5-3d26-4b5f-cee2-fdc38f74a87e"
      },
      "source": [
        "print(summarize(text))"
      ],
      "execution_count": 5,
      "outputs": [
        {
          "output_type": "stream",
          "text": [
            "And she won't eat her dinner - rice pudding again -\n",
            "I've promised her dolls and a daisy-chain,\n",
            "I've promised her sweets and a ride in the train,\n",
            "And it's lovely rice pudding for dinner again!\n"
          ],
          "name": "stdout"
        }
      ]
    },
    {
      "cell_type": "code",
      "metadata": {
        "id": "nup0xnHLbqxo"
      },
      "source": [
        ""
      ],
      "execution_count": null,
      "outputs": []
    }
  ]
}